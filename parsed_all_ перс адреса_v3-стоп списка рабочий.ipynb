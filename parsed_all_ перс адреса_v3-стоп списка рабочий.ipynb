{
 "cells": [
  {
   "cell_type": "code",
   "execution_count": 1,
   "metadata": {},
   "outputs": [],
   "source": [
    "import datetime\n",
    "b=datetime.datetime.now()\n"
   ]
  },
  {
   "cell_type": "code",
   "execution_count": 2,
   "metadata": {},
   "outputs": [],
   "source": [
    "import nltk\n",
    "#nltk.download('stopwords')\n",
    "from nltk.corpus import stopwords as nltk_stopwords\n",
    "stopWords = nltk_stopwords.words(\"french\")\n",
    "#print(stopWords)\n",
    "#fl.write(stopWords)"
   ]
  },
  {
   "cell_type": "code",
   "execution_count": 3,
   "metadata": {},
   "outputs": [],
   "source": [
    "stopWords1 = nltk_stopwords.words(\"english\")\n"
   ]
  },
  {
   "cell_type": "code",
   "execution_count": 4,
   "metadata": {},
   "outputs": [],
   "source": [
    "import re\n",
    "import numpy as np\n",
    "import pandas as pd"
   ]
  },
  {
   "cell_type": "code",
   "execution_count": 5,
   "metadata": {},
   "outputs": [],
   "source": [
    "import time"
   ]
  },
  {
   "cell_type": "code",
   "execution_count": 6,
   "metadata": {},
   "outputs": [],
   "source": [
    "import matplotlib.pyplot as plt"
   ]
  },
  {
   "cell_type": "code",
   "execution_count": 7,
   "metadata": {},
   "outputs": [],
   "source": [
    "import ast"
   ]
  },
  {
   "cell_type": "code",
   "execution_count": 8,
   "metadata": {},
   "outputs": [],
   "source": [
    "pd.options.display.max_rows = 100"
   ]
  },
  {
   "cell_type": "markdown",
   "metadata": {},
   "source": [
    "# 1/ открытие файлов"
   ]
  },
  {
   "cell_type": "code",
   "execution_count": 9,
   "metadata": {},
   "outputs": [],
   "source": [
    "f_us=open('us_prenoms.txt') #американские имена\n",
    "f_us_noms=open('us_noms.txt') # американские \n",
    "f_uk_noms=open('uk.txt') # английские "
   ]
  },
  {
   "cell_type": "code",
   "execution_count": 10,
   "metadata": {},
   "outputs": [],
   "source": [
    "fr_pronoms = pd.read_csv('fr_names.csv', dtype=str) # французские имена\n",
    "fr_noms = pd.read_csv('fr_surnames.csv')\n",
    "#  \n",
    "uk_prenoms = pd.read_csv('eng_names.csv', dtype=str)\n",
    "us_prenoms = f_us.read()\n",
    "us_noms = f_us_noms.read()\n",
    "#uk_noms = f_uk_noms.read()"
   ]
  },
  {
   "cell_type": "code",
   "execution_count": 11,
   "metadata": {},
   "outputs": [
    {
     "data": {
      "text/plain": [
       "(476, 29690, 8408, 36122, 695422)"
      ]
     },
     "execution_count": 11,
     "metadata": {},
     "output_type": "execute_result"
    }
   ],
   "source": [
    "len(fr_pronoms), len(fr_noms), len(uk_prenoms), len(us_prenoms), len(us_noms)"
   ]
  },
  {
   "cell_type": "code",
   "execution_count": 12,
   "metadata": {},
   "outputs": [],
   "source": [
    "uk_prenoms = list(uk_prenoms['names'])"
   ]
  },
  {
   "cell_type": "code",
   "execution_count": 13,
   "metadata": {},
   "outputs": [],
   "source": [
    "fr_pronoms=list(fr_pronoms['names'])"
   ]
  },
  {
   "cell_type": "code",
   "execution_count": 14,
   "metadata": {},
   "outputs": [],
   "source": [
    "fr_noms=list(fr_noms['surnames'])"
   ]
  },
  {
   "cell_type": "code",
   "execution_count": 15,
   "metadata": {},
   "outputs": [],
   "source": [
    "fr_noms=sorted(fr_noms)"
   ]
  },
  {
   "cell_type": "code",
   "execution_count": 16,
   "metadata": {},
   "outputs": [],
   "source": [
    "us_prenoms=us_prenoms.split('\\n')"
   ]
  },
  {
   "cell_type": "code",
   "execution_count": 17,
   "metadata": {},
   "outputs": [],
   "source": [
    "us_prenoms1=[]\n",
    "for i in us_prenoms:\n",
    "    us_prenoms1.append(i.lower())\n",
    "us_prenoms=us_prenoms1"
   ]
  },
  {
   "cell_type": "code",
   "execution_count": 18,
   "metadata": {},
   "outputs": [],
   "source": [
    "us_noms = us_noms.split('\\n')"
   ]
  },
  {
   "cell_type": "code",
   "execution_count": 19,
   "metadata": {},
   "outputs": [],
   "source": [
    "us_noms1=[]\n",
    "for i in us_noms:\n",
    "    us_noms1.append(i.lower())\n",
    "us_noms=us_noms1"
   ]
  },
  {
   "cell_type": "code",
   "execution_count": 20,
   "metadata": {},
   "outputs": [],
   "source": [
    "df0 = pd.read_csv('contacts_19sept.tsv', sep='\\t', dtype=str)"
   ]
  },
  {
   "cell_type": "code",
   "execution_count": 21,
   "metadata": {},
   "outputs": [
    {
     "data": {
      "text/plain": [
       "1113924"
      ]
     },
     "execution_count": 21,
     "metadata": {},
     "output_type": "execute_result"
    }
   ],
   "source": [
    "len(df0)"
   ]
  },
  {
   "cell_type": "code",
   "execution_count": 22,
   "metadata": {},
   "outputs": [],
   "source": [
    "df0['user']= df0['email'].apply(lambda x: x.split('@')[0] if x and len(x.split())>0 else None)"
   ]
  },
  {
   "cell_type": "code",
   "execution_count": 23,
   "metadata": {},
   "outputs": [],
   "source": [
    "df0['user']=df0['user'].apply(lambda x: x.strip())"
   ]
  },
  {
   "cell_type": "code",
   "execution_count": 24,
   "metadata": {},
   "outputs": [
    {
     "data": {
      "text/html": [
       "<div>\n",
       "<style scoped>\n",
       "    .dataframe tbody tr th:only-of-type {\n",
       "        vertical-align: middle;\n",
       "    }\n",
       "\n",
       "    .dataframe tbody tr th {\n",
       "        vertical-align: top;\n",
       "    }\n",
       "\n",
       "    .dataframe thead th {\n",
       "        text-align: right;\n",
       "    }\n",
       "</style>\n",
       "<table border=\"1\" class=\"dataframe\">\n",
       "  <thead>\n",
       "    <tr style=\"text-align: right;\">\n",
       "      <th></th>\n",
       "      <th>user</th>\n",
       "      <th>cnt</th>\n",
       "    </tr>\n",
       "  </thead>\n",
       "  <tbody>\n",
       "    <tr>\n",
       "      <th>77506</th>\n",
       "      <td>contact</td>\n",
       "      <td>246163</td>\n",
       "    </tr>\n",
       "    <tr>\n",
       "      <th>148219</th>\n",
       "      <td>info</td>\n",
       "      <td>71934</td>\n",
       "    </tr>\n",
       "    <tr>\n",
       "      <th>7087</th>\n",
       "      <td>accueil</td>\n",
       "      <td>24960</td>\n",
       "    </tr>\n",
       "    <tr>\n",
       "      <th>192964</th>\n",
       "      <td>mairie</td>\n",
       "      <td>9717</td>\n",
       "    </tr>\n",
       "    <tr>\n",
       "      <th>99613</th>\n",
       "      <td>dpo</td>\n",
       "      <td>9421</td>\n",
       "    </tr>\n",
       "    <tr>\n",
       "      <th>...</th>\n",
       "      <td>...</td>\n",
       "      <td>...</td>\n",
       "    </tr>\n",
       "    <tr>\n",
       "      <th>110270</th>\n",
       "      <td>erdf-aremabt-midipyrenees</td>\n",
       "      <td>1</td>\n",
       "    </tr>\n",
       "    <tr>\n",
       "      <th>110271</th>\n",
       "      <td>erdf-aremabt-paris</td>\n",
       "      <td>1</td>\n",
       "    </tr>\n",
       "    <tr>\n",
       "      <th>110272</th>\n",
       "      <td>erdf-areprod-inf36-paris</td>\n",
       "      <td>1</td>\n",
       "    </tr>\n",
       "    <tr>\n",
       "      <th>110273</th>\n",
       "      <td>erdf-informatique-et-libertes</td>\n",
       "      <td>1</td>\n",
       "    </tr>\n",
       "    <tr>\n",
       "      <th>305931</th>\n",
       "      <td>zzz</td>\n",
       "      <td>1</td>\n",
       "    </tr>\n",
       "  </tbody>\n",
       "</table>\n",
       "<p>305932 rows × 2 columns</p>\n",
       "</div>"
      ],
      "text/plain": [
       "                                 user     cnt\n",
       "77506                         contact  246163\n",
       "148219                           info   71934\n",
       "7087                          accueil   24960\n",
       "192964                         mairie    9717\n",
       "99613                             dpo    9421\n",
       "...                               ...     ...\n",
       "110270      erdf-aremabt-midipyrenees       1\n",
       "110271             erdf-aremabt-paris       1\n",
       "110272       erdf-areprod-inf36-paris       1\n",
       "110273  erdf-informatique-et-libertes       1\n",
       "305931                            zzz       1\n",
       "\n",
       "[305932 rows x 2 columns]"
      ]
     },
     "execution_count": 24,
     "metadata": {},
     "output_type": "execute_result"
    }
   ],
   "source": [
    "df0.groupby('user').agg({'user': 'count'}).rename({'user': 'cnt'}, axis=1).reset_index().sort_values(by='cnt', ascending=False)"
   ]
  },
  {
   "cell_type": "markdown",
   "metadata": {},
   "source": [
    "# списки имен и фамилий"
   ]
  },
  {
   "cell_type": "code",
   "execution_count": 25,
   "metadata": {},
   "outputs": [
    {
     "data": {
      "text/plain": [
       "['aaron', 'abbey', 'abbie', 'abby', 'abdul']"
      ]
     },
     "execution_count": 25,
     "metadata": {},
     "output_type": "execute_result"
    }
   ],
   "source": [
    "uk_prenoms[:5]"
   ]
  },
  {
   "cell_type": "code",
   "execution_count": 26,
   "metadata": {},
   "outputs": [],
   "source": [
    "us_prenoms=  us_prenoms1"
   ]
  },
  {
   "cell_type": "code",
   "execution_count": 27,
   "metadata": {},
   "outputs": [
    {
     "data": {
      "text/plain": [
       "['aaron', 'abbey', 'abbie', 'abby', 'abdul']"
      ]
     },
     "execution_count": 27,
     "metadata": {},
     "output_type": "execute_result"
    }
   ],
   "source": [
    "us_prenoms[:5]"
   ]
  },
  {
   "cell_type": "code",
   "execution_count": 28,
   "metadata": {},
   "outputs": [],
   "source": [
    "us_noms1=us_noms"
   ]
  },
  {
   "cell_type": "code",
   "execution_count": 29,
   "metadata": {},
   "outputs": [
    {
     "data": {
      "text/plain": [
       "['aaberg', 'aaby', 'aadland', 'aagaard', 'aakre']"
      ]
     },
     "execution_count": 29,
     "metadata": {},
     "output_type": "execute_result"
    }
   ],
   "source": [
    "us_noms1[:5]"
   ]
  },
  {
   "cell_type": "code",
   "execution_count": 30,
   "metadata": {},
   "outputs": [
    {
     "data": {
      "text/plain": [
       "['adelaide', 'adele', 'adeline', 'adrien', 'adrienne']"
      ]
     },
     "execution_count": 30,
     "metadata": {},
     "output_type": "execute_result"
    }
   ],
   "source": [
    "fr_pronoms[:5]"
   ]
  },
  {
   "cell_type": "code",
   "execution_count": 31,
   "metadata": {},
   "outputs": [
    {
     "data": {
      "text/plain": [
       "['aaron', 'abad', 'abadia', 'abadie', 'abalain']"
      ]
     },
     "execution_count": 31,
     "metadata": {},
     "output_type": "execute_result"
    }
   ],
   "source": [
    "fr_noms[:5]"
   ]
  },
  {
   "cell_type": "markdown",
   "metadata": {},
   "source": [
    "# 2/ формируем список стоп слов"
   ]
  },
  {
   "cell_type": "code",
   "execution_count": 32,
   "metadata": {},
   "outputs": [],
   "source": [
    "valc =df0['user'].value_counts().head(1200)"
   ]
  },
  {
   "cell_type": "code",
   "execution_count": 33,
   "metadata": {},
   "outputs": [],
   "source": [
    "valc = valc.reset_index()"
   ]
  },
  {
   "cell_type": "code",
   "execution_count": 34,
   "metadata": {},
   "outputs": [
    {
     "data": {
      "text/html": [
       "<div>\n",
       "<style scoped>\n",
       "    .dataframe tbody tr th:only-of-type {\n",
       "        vertical-align: middle;\n",
       "    }\n",
       "\n",
       "    .dataframe tbody tr th {\n",
       "        vertical-align: top;\n",
       "    }\n",
       "\n",
       "    .dataframe thead th {\n",
       "        text-align: right;\n",
       "    }\n",
       "</style>\n",
       "<table border=\"1\" class=\"dataframe\">\n",
       "  <thead>\n",
       "    <tr style=\"text-align: right;\">\n",
       "      <th></th>\n",
       "      <th>index</th>\n",
       "      <th>user</th>\n",
       "    </tr>\n",
       "  </thead>\n",
       "  <tbody>\n",
       "    <tr>\n",
       "      <th>0</th>\n",
       "      <td>contact</td>\n",
       "      <td>246163</td>\n",
       "    </tr>\n",
       "    <tr>\n",
       "      <th>1</th>\n",
       "      <td>info</td>\n",
       "      <td>71934</td>\n",
       "    </tr>\n",
       "    <tr>\n",
       "      <th>2</th>\n",
       "      <td>accueil</td>\n",
       "      <td>24960</td>\n",
       "    </tr>\n",
       "    <tr>\n",
       "      <th>3</th>\n",
       "      <td>mairie</td>\n",
       "      <td>9717</td>\n",
       "    </tr>\n",
       "    <tr>\n",
       "      <th>4</th>\n",
       "      <td>dpo</td>\n",
       "      <td>9421</td>\n",
       "    </tr>\n",
       "    <tr>\n",
       "      <th>...</th>\n",
       "      <td>...</td>\n",
       "      <td>...</td>\n",
       "    </tr>\n",
       "    <tr>\n",
       "      <th>1195</th>\n",
       "      <td>yves</td>\n",
       "      <td>44</td>\n",
       "    </tr>\n",
       "    <tr>\n",
       "      <th>1196</th>\n",
       "      <td>lerelais</td>\n",
       "      <td>44</td>\n",
       "    </tr>\n",
       "    <tr>\n",
       "      <th>1197</th>\n",
       "      <td>regie</td>\n",
       "      <td>44</td>\n",
       "    </tr>\n",
       "    <tr>\n",
       "      <th>1198</th>\n",
       "      <td>albertville</td>\n",
       "      <td>44</td>\n",
       "    </tr>\n",
       "    <tr>\n",
       "      <th>1199</th>\n",
       "      <td>joachim.wendenburg</td>\n",
       "      <td>44</td>\n",
       "    </tr>\n",
       "  </tbody>\n",
       "</table>\n",
       "<p>1200 rows × 2 columns</p>\n",
       "</div>"
      ],
      "text/plain": [
       "                   index    user\n",
       "0                contact  246163\n",
       "1                   info   71934\n",
       "2                accueil   24960\n",
       "3                 mairie    9717\n",
       "4                    dpo    9421\n",
       "...                  ...     ...\n",
       "1195                yves      44\n",
       "1196            lerelais      44\n",
       "1197               regie      44\n",
       "1198         albertville      44\n",
       "1199  joachim.wendenburg      44\n",
       "\n",
       "[1200 rows x 2 columns]"
      ]
     },
     "execution_count": 34,
     "metadata": {},
     "output_type": "execute_result"
    }
   ],
   "source": [
    "valc"
   ]
  },
  {
   "cell_type": "code",
   "execution_count": 35,
   "metadata": {},
   "outputs": [],
   "source": [
    "valc['s']=valc['index'].apply(lambda x: x.replace('-',''))"
   ]
  },
  {
   "cell_type": "code",
   "execution_count": 36,
   "metadata": {},
   "outputs": [],
   "source": [
    "valc['s']=valc['index'].apply(lambda x: x.replace('_',''))"
   ]
  },
  {
   "cell_type": "code",
   "execution_count": 37,
   "metadata": {},
   "outputs": [],
   "source": [
    "valc['s'] = valc['index'].apply(lambda x: x.split('.'))"
   ]
  },
  {
   "cell_type": "code",
   "execution_count": 38,
   "metadata": {},
   "outputs": [],
   "source": [
    "valc=valc.explode(column ='s')"
   ]
  },
  {
   "cell_type": "code",
   "execution_count": 39,
   "metadata": {},
   "outputs": [
    {
     "data": {
      "text/html": [
       "<div>\n",
       "<style scoped>\n",
       "    .dataframe tbody tr th:only-of-type {\n",
       "        vertical-align: middle;\n",
       "    }\n",
       "\n",
       "    .dataframe tbody tr th {\n",
       "        vertical-align: top;\n",
       "    }\n",
       "\n",
       "    .dataframe thead th {\n",
       "        text-align: right;\n",
       "    }\n",
       "</style>\n",
       "<table border=\"1\" class=\"dataframe\">\n",
       "  <thead>\n",
       "    <tr style=\"text-align: right;\">\n",
       "      <th></th>\n",
       "      <th>index</th>\n",
       "      <th>user</th>\n",
       "      <th>s</th>\n",
       "    </tr>\n",
       "  </thead>\n",
       "  <tbody>\n",
       "    <tr>\n",
       "      <th>0</th>\n",
       "      <td>contact</td>\n",
       "      <td>246163</td>\n",
       "      <td>contact</td>\n",
       "    </tr>\n",
       "    <tr>\n",
       "      <th>1</th>\n",
       "      <td>info</td>\n",
       "      <td>71934</td>\n",
       "      <td>info</td>\n",
       "    </tr>\n",
       "    <tr>\n",
       "      <th>2</th>\n",
       "      <td>accueil</td>\n",
       "      <td>24960</td>\n",
       "      <td>accueil</td>\n",
       "    </tr>\n",
       "    <tr>\n",
       "      <th>3</th>\n",
       "      <td>mairie</td>\n",
       "      <td>9717</td>\n",
       "      <td>mairie</td>\n",
       "    </tr>\n",
       "    <tr>\n",
       "      <th>4</th>\n",
       "      <td>dpo</td>\n",
       "      <td>9421</td>\n",
       "      <td>dpo</td>\n",
       "    </tr>\n",
       "    <tr>\n",
       "      <th>5</th>\n",
       "      <td>communication</td>\n",
       "      <td>8779</td>\n",
       "      <td>communication</td>\n",
       "    </tr>\n",
       "    <tr>\n",
       "      <th>6</th>\n",
       "      <td>recrutement</td>\n",
       "      <td>8282</td>\n",
       "      <td>recrutement</td>\n",
       "    </tr>\n",
       "    <tr>\n",
       "      <th>7</th>\n",
       "      <td>direction</td>\n",
       "      <td>8196</td>\n",
       "      <td>direction</td>\n",
       "    </tr>\n",
       "    <tr>\n",
       "      <th>8</th>\n",
       "      <td>secretariat</td>\n",
       "      <td>6429</td>\n",
       "      <td>secretariat</td>\n",
       "    </tr>\n",
       "    <tr>\n",
       "      <th>9</th>\n",
       "      <td>commercial</td>\n",
       "      <td>6407</td>\n",
       "      <td>commercial</td>\n",
       "    </tr>\n",
       "    <tr>\n",
       "      <th>10</th>\n",
       "      <td>infos</td>\n",
       "      <td>6377</td>\n",
       "      <td>infos</td>\n",
       "    </tr>\n",
       "    <tr>\n",
       "      <th>11</th>\n",
       "      <td>support</td>\n",
       "      <td>5250</td>\n",
       "      <td>support</td>\n",
       "    </tr>\n",
       "    <tr>\n",
       "      <th>12</th>\n",
       "      <td>robert</td>\n",
       "      <td>4433</td>\n",
       "      <td>robert</td>\n",
       "    </tr>\n",
       "    <tr>\n",
       "      <th>13</th>\n",
       "      <td>webmaster</td>\n",
       "      <td>3958</td>\n",
       "      <td>webmaster</td>\n",
       "    </tr>\n",
       "    <tr>\n",
       "      <th>14</th>\n",
       "      <td>prenom.nom</td>\n",
       "      <td>3821</td>\n",
       "      <td>prenom</td>\n",
       "    </tr>\n",
       "    <tr>\n",
       "      <th>14</th>\n",
       "      <td>prenom.nom</td>\n",
       "      <td>3821</td>\n",
       "      <td>nom</td>\n",
       "    </tr>\n",
       "    <tr>\n",
       "      <th>15</th>\n",
       "      <td>exemple</td>\n",
       "      <td>3174</td>\n",
       "      <td>exemple</td>\n",
       "    </tr>\n",
       "    <tr>\n",
       "      <th>16</th>\n",
       "      <td>privacy</td>\n",
       "      <td>3119</td>\n",
       "      <td>privacy</td>\n",
       "    </tr>\n",
       "    <tr>\n",
       "      <th>17</th>\n",
       "      <td>license</td>\n",
       "      <td>3059</td>\n",
       "      <td>license</td>\n",
       "    </tr>\n",
       "    <tr>\n",
       "      <th>18</th>\n",
       "      <td>service.client</td>\n",
       "      <td>2659</td>\n",
       "      <td>service</td>\n",
       "    </tr>\n",
       "    <tr>\n",
       "      <th>18</th>\n",
       "      <td>service.client</td>\n",
       "      <td>2659</td>\n",
       "      <td>client</td>\n",
       "    </tr>\n",
       "    <tr>\n",
       "      <th>19</th>\n",
       "      <td>siege</td>\n",
       "      <td>2622</td>\n",
       "      <td>siege</td>\n",
       "    </tr>\n",
       "    <tr>\n",
       "      <th>20</th>\n",
       "      <td>sholby</td>\n",
       "      <td>2210</td>\n",
       "      <td>sholby</td>\n",
       "    </tr>\n",
       "    <tr>\n",
       "      <th>21</th>\n",
       "      <td>sales</td>\n",
       "      <td>2180</td>\n",
       "      <td>sales</td>\n",
       "    </tr>\n",
       "    <tr>\n",
       "      <th>22</th>\n",
       "      <td>courrier</td>\n",
       "      <td>2070</td>\n",
       "      <td>courrier</td>\n",
       "    </tr>\n",
       "    <tr>\n",
       "      <th>23</th>\n",
       "      <td>serviceclient</td>\n",
       "      <td>2031</td>\n",
       "      <td>serviceclient</td>\n",
       "    </tr>\n",
       "    <tr>\n",
       "      <th>24</th>\n",
       "      <td>reservation</td>\n",
       "      <td>1983</td>\n",
       "      <td>reservation</td>\n",
       "    </tr>\n",
       "    <tr>\n",
       "      <th>25</th>\n",
       "      <td>pierremaistre</td>\n",
       "      <td>1953</td>\n",
       "      <td>pierremaistre</td>\n",
       "    </tr>\n",
       "    <tr>\n",
       "      <th>26</th>\n",
       "      <td>banette</td>\n",
       "      <td>1928</td>\n",
       "      <td>banette</td>\n",
       "    </tr>\n",
       "    <tr>\n",
       "      <th>27</th>\n",
       "      <td>marketing</td>\n",
       "      <td>1876</td>\n",
       "      <td>marketing</td>\n",
       "    </tr>\n",
       "    <tr>\n",
       "      <th>28</th>\n",
       "      <td>mail</td>\n",
       "      <td>1862</td>\n",
       "      <td>mail</td>\n",
       "    </tr>\n",
       "    <tr>\n",
       "      <th>29</th>\n",
       "      <td>hello</td>\n",
       "      <td>1827</td>\n",
       "      <td>hello</td>\n",
       "    </tr>\n",
       "    <tr>\n",
       "      <th>30</th>\n",
       "      <td>directiondelacommunication</td>\n",
       "      <td>1802</td>\n",
       "      <td>directiondelacommunication</td>\n",
       "    </tr>\n",
       "    <tr>\n",
       "      <th>31</th>\n",
       "      <td>adresse</td>\n",
       "      <td>1798</td>\n",
       "      <td>adresse</td>\n",
       "    </tr>\n",
       "    <tr>\n",
       "      <th>32</th>\n",
       "      <td>service.discriminations</td>\n",
       "      <td>1793</td>\n",
       "      <td>service</td>\n",
       "    </tr>\n",
       "    <tr>\n",
       "      <th>32</th>\n",
       "      <td>service.discriminations</td>\n",
       "      <td>1793</td>\n",
       "      <td>discriminations</td>\n",
       "    </tr>\n",
       "    <tr>\n",
       "      <th>33</th>\n",
       "      <td>dre_grandlyon</td>\n",
       "      <td>1785</td>\n",
       "      <td>dre_grandlyon</td>\n",
       "    </tr>\n",
       "    <tr>\n",
       "      <th>34</th>\n",
       "      <td>rh</td>\n",
       "      <td>1742</td>\n",
       "      <td>rh</td>\n",
       "    </tr>\n",
       "    <tr>\n",
       "      <th>35</th>\n",
       "      <td>serviceclients</td>\n",
       "      <td>1680</td>\n",
       "      <td>serviceclients</td>\n",
       "    </tr>\n",
       "    <tr>\n",
       "      <th>36</th>\n",
       "      <td>standard</td>\n",
       "      <td>1565</td>\n",
       "      <td>standard</td>\n",
       "    </tr>\n",
       "    <tr>\n",
       "      <th>37</th>\n",
       "      <td>sav</td>\n",
       "      <td>1520</td>\n",
       "      <td>sav</td>\n",
       "    </tr>\n",
       "    <tr>\n",
       "      <th>38</th>\n",
       "      <td>masteredfcom</td>\n",
       "      <td>1508</td>\n",
       "      <td>masteredfcom</td>\n",
       "    </tr>\n",
       "    <tr>\n",
       "      <th>39</th>\n",
       "      <td>contacts</td>\n",
       "      <td>1458</td>\n",
       "      <td>contacts</td>\n",
       "    </tr>\n",
       "    <tr>\n",
       "      <th>40</th>\n",
       "      <td>paris</td>\n",
       "      <td>1452</td>\n",
       "      <td>paris</td>\n",
       "    </tr>\n",
       "    <tr>\n",
       "      <th>41</th>\n",
       "      <td>admin</td>\n",
       "      <td>1451</td>\n",
       "      <td>admin</td>\n",
       "    </tr>\n",
       "    <tr>\n",
       "      <th>42</th>\n",
       "      <td>compta</td>\n",
       "      <td>1441</td>\n",
       "      <td>compta</td>\n",
       "    </tr>\n",
       "    <tr>\n",
       "      <th>43</th>\n",
       "      <td>presse</td>\n",
       "      <td>1438</td>\n",
       "      <td>presse</td>\n",
       "    </tr>\n",
       "    <tr>\n",
       "      <th>44</th>\n",
       "      <td>rgpd</td>\n",
       "      <td>1431</td>\n",
       "      <td>rgpd</td>\n",
       "    </tr>\n",
       "    <tr>\n",
       "      <th>45</th>\n",
       "      <td>ad-rgpd</td>\n",
       "      <td>1365</td>\n",
       "      <td>ad-rgpd</td>\n",
       "    </tr>\n",
       "    <tr>\n",
       "      <th>46</th>\n",
       "      <td>nom</td>\n",
       "      <td>1305</td>\n",
       "      <td>nom</td>\n",
       "    </tr>\n",
       "    <tr>\n",
       "      <th>47</th>\n",
       "      <td>service.clients</td>\n",
       "      <td>1263</td>\n",
       "      <td>service</td>\n",
       "    </tr>\n",
       "    <tr>\n",
       "      <th>47</th>\n",
       "      <td>service.clients</td>\n",
       "      <td>1263</td>\n",
       "      <td>clients</td>\n",
       "    </tr>\n",
       "    <tr>\n",
       "      <th>48</th>\n",
       "      <td>agence</td>\n",
       "      <td>1256</td>\n",
       "      <td>agence</td>\n",
       "    </tr>\n",
       "    <tr>\n",
       "      <th>49</th>\n",
       "      <td>administration</td>\n",
       "      <td>1216</td>\n",
       "      <td>administration</td>\n",
       "    </tr>\n",
       "    <tr>\n",
       "      <th>50</th>\n",
       "      <td>satisfactionclient</td>\n",
       "      <td>1214</td>\n",
       "      <td>satisfactionclient</td>\n",
       "    </tr>\n",
       "    <tr>\n",
       "      <th>51</th>\n",
       "      <td>ikoula</td>\n",
       "      <td>1144</td>\n",
       "      <td>ikoula</td>\n",
       "    </tr>\n",
       "    <tr>\n",
       "      <th>52</th>\n",
       "      <td>jean.dupont</td>\n",
       "      <td>1124</td>\n",
       "      <td>jean</td>\n",
       "    </tr>\n",
       "    <tr>\n",
       "      <th>52</th>\n",
       "      <td>jean.dupont</td>\n",
       "      <td>1124</td>\n",
       "      <td>dupont</td>\n",
       "    </tr>\n",
       "    <tr>\n",
       "      <th>53</th>\n",
       "      <td>infos.groupe</td>\n",
       "      <td>1094</td>\n",
       "      <td>infos</td>\n",
       "    </tr>\n",
       "    <tr>\n",
       "      <th>53</th>\n",
       "      <td>infos.groupe</td>\n",
       "      <td>1094</td>\n",
       "      <td>groupe</td>\n",
       "    </tr>\n",
       "    <tr>\n",
       "      <th>54</th>\n",
       "      <td>informatiqueetliberte</td>\n",
       "      <td>1078</td>\n",
       "      <td>informatiqueetliberte</td>\n",
       "    </tr>\n",
       "    <tr>\n",
       "      <th>55</th>\n",
       "      <td>cabinet</td>\n",
       "      <td>1056</td>\n",
       "      <td>cabinet</td>\n",
       "    </tr>\n",
       "    <tr>\n",
       "      <th>56</th>\n",
       "      <td>sylvie.honorat.am</td>\n",
       "      <td>1055</td>\n",
       "      <td>sylvie</td>\n",
       "    </tr>\n",
       "    <tr>\n",
       "      <th>56</th>\n",
       "      <td>sylvie.honorat.am</td>\n",
       "      <td>1055</td>\n",
       "      <td>honorat</td>\n",
       "    </tr>\n",
       "    <tr>\n",
       "      <th>56</th>\n",
       "      <td>sylvie.honorat.am</td>\n",
       "      <td>1055</td>\n",
       "      <td>am</td>\n",
       "    </tr>\n",
       "    <tr>\n",
       "      <th>57</th>\n",
       "      <td>services.psef</td>\n",
       "      <td>1044</td>\n",
       "      <td>services</td>\n",
       "    </tr>\n",
       "    <tr>\n",
       "      <th>57</th>\n",
       "      <td>services.psef</td>\n",
       "      <td>1044</td>\n",
       "      <td>psef</td>\n",
       "    </tr>\n",
       "    <tr>\n",
       "      <th>58</th>\n",
       "      <td>accueil_issy</td>\n",
       "      <td>1009</td>\n",
       "      <td>accueil_issy</td>\n",
       "    </tr>\n",
       "    <tr>\n",
       "      <th>59</th>\n",
       "      <td>formation</td>\n",
       "      <td>978</td>\n",
       "      <td>formation</td>\n",
       "    </tr>\n",
       "    <tr>\n",
       "      <th>60</th>\n",
       "      <td>service</td>\n",
       "      <td>976</td>\n",
       "      <td>service</td>\n",
       "    </tr>\n",
       "    <tr>\n",
       "      <th>61</th>\n",
       "      <td>web</td>\n",
       "      <td>969</td>\n",
       "      <td>web</td>\n",
       "    </tr>\n",
       "    <tr>\n",
       "      <th>62</th>\n",
       "      <td>bonjour</td>\n",
       "      <td>966</td>\n",
       "      <td>bonjour</td>\n",
       "    </tr>\n",
       "    <tr>\n",
       "      <th>63</th>\n",
       "      <td>my-name</td>\n",
       "      <td>962</td>\n",
       "      <td>my-name</td>\n",
       "    </tr>\n",
       "    <tr>\n",
       "      <th>64</th>\n",
       "      <td>service-client</td>\n",
       "      <td>956</td>\n",
       "      <td>service-client</td>\n",
       "    </tr>\n",
       "    <tr>\n",
       "      <th>65</th>\n",
       "      <td>infofr</td>\n",
       "      <td>951</td>\n",
       "      <td>infofr</td>\n",
       "    </tr>\n",
       "    <tr>\n",
       "      <th>66</th>\n",
       "      <td>contactweb</td>\n",
       "      <td>918</td>\n",
       "      <td>contactweb</td>\n",
       "    </tr>\n",
       "    <tr>\n",
       "      <th>67</th>\n",
       "      <td>drh</td>\n",
       "      <td>917</td>\n",
       "      <td>drh</td>\n",
       "    </tr>\n",
       "    <tr>\n",
       "      <th>68</th>\n",
       "      <td>information</td>\n",
       "      <td>888</td>\n",
       "      <td>information</td>\n",
       "    </tr>\n",
       "    <tr>\n",
       "      <th>69</th>\n",
       "      <td>info-centrale</td>\n",
       "      <td>885</td>\n",
       "      <td>info-centrale</td>\n",
       "    </tr>\n",
       "    <tr>\n",
       "      <th>70</th>\n",
       "      <td>comptabilite</td>\n",
       "      <td>881</td>\n",
       "      <td>comptabilite</td>\n",
       "    </tr>\n",
       "    <tr>\n",
       "      <th>71</th>\n",
       "      <td>france</td>\n",
       "      <td>881</td>\n",
       "      <td>france</td>\n",
       "    </tr>\n",
       "    <tr>\n",
       "      <th>72</th>\n",
       "      <td>cil</td>\n",
       "      <td>853</td>\n",
       "      <td>cil</td>\n",
       "    </tr>\n",
       "    <tr>\n",
       "      <th>73</th>\n",
       "      <td>immobilier.notaires</td>\n",
       "      <td>852</td>\n",
       "      <td>immobilier</td>\n",
       "    </tr>\n",
       "    <tr>\n",
       "      <th>73</th>\n",
       "      <td>immobilier.notaires</td>\n",
       "      <td>852</td>\n",
       "      <td>notaires</td>\n",
       "    </tr>\n",
       "    <tr>\n",
       "      <th>74</th>\n",
       "      <td>cnil</td>\n",
       "      <td>848</td>\n",
       "      <td>cnil</td>\n",
       "    </tr>\n",
       "    <tr>\n",
       "      <th>75</th>\n",
       "      <td>miracle</td>\n",
       "      <td>835</td>\n",
       "      <td>miracle</td>\n",
       "    </tr>\n",
       "    <tr>\n",
       "      <th>76</th>\n",
       "      <td>contact.automotive</td>\n",
       "      <td>833</td>\n",
       "      <td>contact</td>\n",
       "    </tr>\n",
       "    <tr>\n",
       "      <th>76</th>\n",
       "      <td>contact.automotive</td>\n",
       "      <td>833</td>\n",
       "      <td>automotive</td>\n",
       "    </tr>\n",
       "    <tr>\n",
       "      <th>77</th>\n",
       "      <td>boutique</td>\n",
       "      <td>786</td>\n",
       "      <td>boutique</td>\n",
       "    </tr>\n",
       "    <tr>\n",
       "      <th>78</th>\n",
       "      <td>email</td>\n",
       "      <td>781</td>\n",
       "      <td>email</td>\n",
       "    </tr>\n",
       "    <tr>\n",
       "      <th>79</th>\n",
       "      <td>donneespersonnelles</td>\n",
       "      <td>778</td>\n",
       "      <td>donneespersonnelles</td>\n",
       "    </tr>\n",
       "    <tr>\n",
       "      <th>80</th>\n",
       "      <td>client</td>\n",
       "      <td>764</td>\n",
       "      <td>client</td>\n",
       "    </tr>\n",
       "    <tr>\n",
       "      <th>81</th>\n",
       "      <td>ecole</td>\n",
       "      <td>757</td>\n",
       "      <td>ecole</td>\n",
       "    </tr>\n",
       "    <tr>\n",
       "      <th>82</th>\n",
       "      <td>lyon</td>\n",
       "      <td>735</td>\n",
       "      <td>lyon</td>\n",
       "    </tr>\n",
       "    <tr>\n",
       "      <th>83</th>\n",
       "      <td>jobs</td>\n",
       "      <td>713</td>\n",
       "      <td>jobs</td>\n",
       "    </tr>\n",
       "    <tr>\n",
       "      <th>84</th>\n",
       "      <td>accueil.siege</td>\n",
       "      <td>708</td>\n",
       "      <td>accueil</td>\n",
       "    </tr>\n",
       "    <tr>\n",
       "      <th>84</th>\n",
       "      <td>accueil.siege</td>\n",
       "      <td>708</td>\n",
       "      <td>siege</td>\n",
       "    </tr>\n",
       "    <tr>\n",
       "      <th>85</th>\n",
       "      <td>consultation.mp</td>\n",
       "      <td>705</td>\n",
       "      <td>consultation</td>\n",
       "    </tr>\n",
       "    <tr>\n",
       "      <th>85</th>\n",
       "      <td>consultation.mp</td>\n",
       "      <td>705</td>\n",
       "      <td>mp</td>\n",
       "    </tr>\n",
       "    <tr>\n",
       "      <th>86</th>\n",
       "      <td>dircom</td>\n",
       "      <td>704</td>\n",
       "      <td>dircom</td>\n",
       "    </tr>\n",
       "  </tbody>\n",
       "</table>\n",
       "</div>"
      ],
      "text/plain": [
       "                         index    user                           s\n",
       "0                      contact  246163                     contact\n",
       "1                         info   71934                        info\n",
       "2                      accueil   24960                     accueil\n",
       "3                       mairie    9717                      mairie\n",
       "4                          dpo    9421                         dpo\n",
       "5                communication    8779               communication\n",
       "6                  recrutement    8282                 recrutement\n",
       "7                    direction    8196                   direction\n",
       "8                  secretariat    6429                 secretariat\n",
       "9                   commercial    6407                  commercial\n",
       "10                       infos    6377                       infos\n",
       "11                     support    5250                     support\n",
       "12                      robert    4433                      robert\n",
       "13                   webmaster    3958                   webmaster\n",
       "14                  prenom.nom    3821                      prenom\n",
       "14                  prenom.nom    3821                         nom\n",
       "15                     exemple    3174                     exemple\n",
       "16                     privacy    3119                     privacy\n",
       "17                     license    3059                     license\n",
       "18              service.client    2659                     service\n",
       "18              service.client    2659                      client\n",
       "19                       siege    2622                       siege\n",
       "20                      sholby    2210                      sholby\n",
       "21                       sales    2180                       sales\n",
       "22                    courrier    2070                    courrier\n",
       "23               serviceclient    2031               serviceclient\n",
       "24                 reservation    1983                 reservation\n",
       "25               pierremaistre    1953               pierremaistre\n",
       "26                     banette    1928                     banette\n",
       "27                   marketing    1876                   marketing\n",
       "28                        mail    1862                        mail\n",
       "29                       hello    1827                       hello\n",
       "30  directiondelacommunication    1802  directiondelacommunication\n",
       "31                     adresse    1798                     adresse\n",
       "32     service.discriminations    1793                     service\n",
       "32     service.discriminations    1793             discriminations\n",
       "33               dre_grandlyon    1785               dre_grandlyon\n",
       "34                          rh    1742                          rh\n",
       "35              serviceclients    1680              serviceclients\n",
       "36                    standard    1565                    standard\n",
       "37                         sav    1520                         sav\n",
       "38                masteredfcom    1508                masteredfcom\n",
       "39                    contacts    1458                    contacts\n",
       "40                       paris    1452                       paris\n",
       "41                       admin    1451                       admin\n",
       "42                      compta    1441                      compta\n",
       "43                      presse    1438                      presse\n",
       "44                        rgpd    1431                        rgpd\n",
       "45                     ad-rgpd    1365                     ad-rgpd\n",
       "46                         nom    1305                         nom\n",
       "47             service.clients    1263                     service\n",
       "47             service.clients    1263                     clients\n",
       "48                      agence    1256                      agence\n",
       "49              administration    1216              administration\n",
       "50          satisfactionclient    1214          satisfactionclient\n",
       "51                      ikoula    1144                      ikoula\n",
       "52                 jean.dupont    1124                        jean\n",
       "52                 jean.dupont    1124                      dupont\n",
       "53                infos.groupe    1094                       infos\n",
       "53                infos.groupe    1094                      groupe\n",
       "54       informatiqueetliberte    1078       informatiqueetliberte\n",
       "55                     cabinet    1056                     cabinet\n",
       "56           sylvie.honorat.am    1055                      sylvie\n",
       "56           sylvie.honorat.am    1055                     honorat\n",
       "56           sylvie.honorat.am    1055                          am\n",
       "57               services.psef    1044                    services\n",
       "57               services.psef    1044                        psef\n",
       "58                accueil_issy    1009                accueil_issy\n",
       "59                   formation     978                   formation\n",
       "60                     service     976                     service\n",
       "61                         web     969                         web\n",
       "62                     bonjour     966                     bonjour\n",
       "63                     my-name     962                     my-name\n",
       "64              service-client     956              service-client\n",
       "65                      infofr     951                      infofr\n",
       "66                  contactweb     918                  contactweb\n",
       "67                         drh     917                         drh\n",
       "68                 information     888                 information\n",
       "69               info-centrale     885               info-centrale\n",
       "70                comptabilite     881                comptabilite\n",
       "71                      france     881                      france\n",
       "72                         cil     853                         cil\n",
       "73         immobilier.notaires     852                  immobilier\n",
       "73         immobilier.notaires     852                    notaires\n",
       "74                        cnil     848                        cnil\n",
       "75                     miracle     835                     miracle\n",
       "76          contact.automotive     833                     contact\n",
       "76          contact.automotive     833                  automotive\n",
       "77                    boutique     786                    boutique\n",
       "78                       email     781                       email\n",
       "79         donneespersonnelles     778         donneespersonnelles\n",
       "80                      client     764                      client\n",
       "81                       ecole     757                       ecole\n",
       "82                        lyon     735                        lyon\n",
       "83                        jobs     713                        jobs\n",
       "84               accueil.siege     708                     accueil\n",
       "84               accueil.siege     708                       siege\n",
       "85             consultation.mp     705                consultation\n",
       "85             consultation.mp     705                          mp\n",
       "86                      dircom     704                      dircom"
      ]
     },
     "execution_count": 39,
     "metadata": {},
     "output_type": "execute_result"
    }
   ],
   "source": [
    "valc.head(100)"
   ]
  },
  {
   "cell_type": "code",
   "execution_count": 40,
   "metadata": {},
   "outputs": [
    {
     "data": {
      "text/plain": [
       "1485"
      ]
     },
     "execution_count": 40,
     "metadata": {},
     "output_type": "execute_result"
    }
   ],
   "source": [
    "len(valc)"
   ]
  },
  {
   "cell_type": "code",
   "execution_count": 41,
   "metadata": {},
   "outputs": [],
   "source": [
    "gvalc = valc.groupby('s')['user'].sum().sort_values() #.agg({'user':'sum'})"
   ]
  },
  {
   "cell_type": "code",
   "execution_count": 42,
   "metadata": {},
   "outputs": [],
   "source": [
    "gvalc=gvalc.reset_index()"
   ]
  },
  {
   "cell_type": "code",
   "execution_count": 43,
   "metadata": {},
   "outputs": [
    {
     "data": {
      "text/html": [
       "<div>\n",
       "<style scoped>\n",
       "    .dataframe tbody tr th:only-of-type {\n",
       "        vertical-align: middle;\n",
       "    }\n",
       "\n",
       "    .dataframe tbody tr th {\n",
       "        vertical-align: top;\n",
       "    }\n",
       "\n",
       "    .dataframe thead th {\n",
       "        text-align: right;\n",
       "    }\n",
       "</style>\n",
       "<table border=\"1\" class=\"dataframe\">\n",
       "  <thead>\n",
       "    <tr style=\"text-align: right;\">\n",
       "      <th></th>\n",
       "      <th>s</th>\n",
       "      <th>user</th>\n",
       "    </tr>\n",
       "  </thead>\n",
       "  <tbody>\n",
       "    <tr>\n",
       "      <th>1175</th>\n",
       "      <td>contact</td>\n",
       "      <td>250528</td>\n",
       "    </tr>\n",
       "    <tr>\n",
       "      <th>1174</th>\n",
       "      <td>info</td>\n",
       "      <td>72952</td>\n",
       "    </tr>\n",
       "    <tr>\n",
       "      <th>1173</th>\n",
       "      <td>accueil</td>\n",
       "      <td>30457</td>\n",
       "    </tr>\n",
       "    <tr>\n",
       "      <th>1172</th>\n",
       "      <td>dpo</td>\n",
       "      <td>10426</td>\n",
       "    </tr>\n",
       "    <tr>\n",
       "      <th>1171</th>\n",
       "      <td>mairie</td>\n",
       "      <td>10214</td>\n",
       "    </tr>\n",
       "    <tr>\n",
       "      <th>1170</th>\n",
       "      <td>communication</td>\n",
       "      <td>10156</td>\n",
       "    </tr>\n",
       "    <tr>\n",
       "      <th>1169</th>\n",
       "      <td>direction</td>\n",
       "      <td>9450</td>\n",
       "    </tr>\n",
       "    <tr>\n",
       "      <th>1168</th>\n",
       "      <td>service</td>\n",
       "      <td>8798</td>\n",
       "    </tr>\n",
       "    <tr>\n",
       "      <th>1167</th>\n",
       "      <td>recrutement</td>\n",
       "      <td>8754</td>\n",
       "    </tr>\n",
       "    <tr>\n",
       "      <th>1166</th>\n",
       "      <td>secretariat</td>\n",
       "      <td>8097</td>\n",
       "    </tr>\n",
       "    <tr>\n",
       "      <th>1165</th>\n",
       "      <td>infos</td>\n",
       "      <td>7471</td>\n",
       "    </tr>\n",
       "    <tr>\n",
       "      <th>1164</th>\n",
       "      <td>commercial</td>\n",
       "      <td>6873</td>\n",
       "    </tr>\n",
       "    <tr>\n",
       "      <th>1163</th>\n",
       "      <td>nom</td>\n",
       "      <td>5291</td>\n",
       "    </tr>\n",
       "    <tr>\n",
       "      <th>1162</th>\n",
       "      <td>support</td>\n",
       "      <td>5250</td>\n",
       "    </tr>\n",
       "    <tr>\n",
       "      <th>1161</th>\n",
       "      <td>robert</td>\n",
       "      <td>4433</td>\n",
       "    </tr>\n",
       "    <tr>\n",
       "      <th>1160</th>\n",
       "      <td>webmaster</td>\n",
       "      <td>4360</td>\n",
       "    </tr>\n",
       "    <tr>\n",
       "      <th>1159</th>\n",
       "      <td>prenom</td>\n",
       "      <td>3986</td>\n",
       "    </tr>\n",
       "    <tr>\n",
       "      <th>1158</th>\n",
       "      <td>privacy</td>\n",
       "      <td>3938</td>\n",
       "    </tr>\n",
       "    <tr>\n",
       "      <th>1157</th>\n",
       "      <td>client</td>\n",
       "      <td>3820</td>\n",
       "    </tr>\n",
       "    <tr>\n",
       "      <th>1156</th>\n",
       "      <td>siege</td>\n",
       "      <td>3806</td>\n",
       "    </tr>\n",
       "    <tr>\n",
       "      <th>1155</th>\n",
       "      <td>exemple</td>\n",
       "      <td>3174</td>\n",
       "    </tr>\n",
       "    <tr>\n",
       "      <th>1154</th>\n",
       "      <td>license</td>\n",
       "      <td>3059</td>\n",
       "    </tr>\n",
       "    <tr>\n",
       "      <th>1153</th>\n",
       "      <td>paris</td>\n",
       "      <td>2978</td>\n",
       "    </tr>\n",
       "    <tr>\n",
       "      <th>1152</th>\n",
       "      <td>standard</td>\n",
       "      <td>2553</td>\n",
       "    </tr>\n",
       "    <tr>\n",
       "      <th>1151</th>\n",
       "      <td>france</td>\n",
       "      <td>2335</td>\n",
       "    </tr>\n",
       "    <tr>\n",
       "      <th>1150</th>\n",
       "      <td>sholby</td>\n",
       "      <td>2210</td>\n",
       "    </tr>\n",
       "    <tr>\n",
       "      <th>1149</th>\n",
       "      <td>sales</td>\n",
       "      <td>2180</td>\n",
       "    </tr>\n",
       "    <tr>\n",
       "      <th>1148</th>\n",
       "      <td>courrier</td>\n",
       "      <td>2070</td>\n",
       "    </tr>\n",
       "    <tr>\n",
       "      <th>1147</th>\n",
       "      <td>serviceclient</td>\n",
       "      <td>2031</td>\n",
       "    </tr>\n",
       "    <tr>\n",
       "      <th>1146</th>\n",
       "      <td>reservation</td>\n",
       "      <td>1983</td>\n",
       "    </tr>\n",
       "    <tr>\n",
       "      <th>1145</th>\n",
       "      <td>pierremaistre</td>\n",
       "      <td>1953</td>\n",
       "    </tr>\n",
       "    <tr>\n",
       "      <th>1144</th>\n",
       "      <td>rh</td>\n",
       "      <td>1943</td>\n",
       "    </tr>\n",
       "    <tr>\n",
       "      <th>1143</th>\n",
       "      <td>banette</td>\n",
       "      <td>1928</td>\n",
       "    </tr>\n",
       "    <tr>\n",
       "      <th>1142</th>\n",
       "      <td>mail</td>\n",
       "      <td>1914</td>\n",
       "    </tr>\n",
       "    <tr>\n",
       "      <th>1140</th>\n",
       "      <td>ce</td>\n",
       "      <td>1876</td>\n",
       "    </tr>\n",
       "    <tr>\n",
       "      <th>1141</th>\n",
       "      <td>marketing</td>\n",
       "      <td>1876</td>\n",
       "    </tr>\n",
       "    <tr>\n",
       "      <th>1139</th>\n",
       "      <td>adresse</td>\n",
       "      <td>1848</td>\n",
       "    </tr>\n",
       "    <tr>\n",
       "      <th>1138</th>\n",
       "      <td>hello</td>\n",
       "      <td>1827</td>\n",
       "    </tr>\n",
       "    <tr>\n",
       "      <th>1137</th>\n",
       "      <td>directiondelacommunication</td>\n",
       "      <td>1802</td>\n",
       "    </tr>\n",
       "    <tr>\n",
       "      <th>1136</th>\n",
       "      <td>discriminations</td>\n",
       "      <td>1793</td>\n",
       "    </tr>\n",
       "    <tr>\n",
       "      <th>1135</th>\n",
       "      <td>dre_grandlyon</td>\n",
       "      <td>1785</td>\n",
       "    </tr>\n",
       "    <tr>\n",
       "      <th>1134</th>\n",
       "      <td>serviceclients</td>\n",
       "      <td>1777</td>\n",
       "    </tr>\n",
       "    <tr>\n",
       "      <th>1133</th>\n",
       "      <td>fr</td>\n",
       "      <td>1720</td>\n",
       "    </tr>\n",
       "    <tr>\n",
       "      <th>1132</th>\n",
       "      <td>rgpd</td>\n",
       "      <td>1719</td>\n",
       "    </tr>\n",
       "    <tr>\n",
       "      <th>1131</th>\n",
       "      <td>sav</td>\n",
       "      <td>1520</td>\n",
       "    </tr>\n",
       "    <tr>\n",
       "      <th>1130</th>\n",
       "      <td>groupe</td>\n",
       "      <td>1520</td>\n",
       "    </tr>\n",
       "    <tr>\n",
       "      <th>1129</th>\n",
       "      <td>masteredfcom</td>\n",
       "      <td>1508</td>\n",
       "    </tr>\n",
       "    <tr>\n",
       "      <th>1128</th>\n",
       "      <td>compta</td>\n",
       "      <td>1497</td>\n",
       "    </tr>\n",
       "    <tr>\n",
       "      <th>1127</th>\n",
       "      <td>clients</td>\n",
       "      <td>1473</td>\n",
       "    </tr>\n",
       "    <tr>\n",
       "      <th>1126</th>\n",
       "      <td>contacts</td>\n",
       "      <td>1458</td>\n",
       "    </tr>\n",
       "  </tbody>\n",
       "</table>\n",
       "</div>"
      ],
      "text/plain": [
       "                               s    user\n",
       "1175                     contact  250528\n",
       "1174                        info   72952\n",
       "1173                     accueil   30457\n",
       "1172                         dpo   10426\n",
       "1171                      mairie   10214\n",
       "1170               communication   10156\n",
       "1169                   direction    9450\n",
       "1168                     service    8798\n",
       "1167                 recrutement    8754\n",
       "1166                 secretariat    8097\n",
       "1165                       infos    7471\n",
       "1164                  commercial    6873\n",
       "1163                         nom    5291\n",
       "1162                     support    5250\n",
       "1161                      robert    4433\n",
       "1160                   webmaster    4360\n",
       "1159                      prenom    3986\n",
       "1158                     privacy    3938\n",
       "1157                      client    3820\n",
       "1156                       siege    3806\n",
       "1155                     exemple    3174\n",
       "1154                     license    3059\n",
       "1153                       paris    2978\n",
       "1152                    standard    2553\n",
       "1151                      france    2335\n",
       "1150                      sholby    2210\n",
       "1149                       sales    2180\n",
       "1148                    courrier    2070\n",
       "1147               serviceclient    2031\n",
       "1146                 reservation    1983\n",
       "1145               pierremaistre    1953\n",
       "1144                          rh    1943\n",
       "1143                     banette    1928\n",
       "1142                        mail    1914\n",
       "1140                          ce    1876\n",
       "1141                   marketing    1876\n",
       "1139                     adresse    1848\n",
       "1138                       hello    1827\n",
       "1137  directiondelacommunication    1802\n",
       "1136             discriminations    1793\n",
       "1135               dre_grandlyon    1785\n",
       "1134              serviceclients    1777\n",
       "1133                          fr    1720\n",
       "1132                        rgpd    1719\n",
       "1131                         sav    1520\n",
       "1130                      groupe    1520\n",
       "1129                masteredfcom    1508\n",
       "1128                      compta    1497\n",
       "1127                     clients    1473\n",
       "1126                    contacts    1458"
      ]
     },
     "execution_count": 43,
     "metadata": {},
     "output_type": "execute_result"
    }
   ],
   "source": [
    "gvalc.sort_values(by='user', ascending = False).head(50)"
   ]
  },
  {
   "cell_type": "code",
   "execution_count": 44,
   "metadata": {},
   "outputs": [
    {
     "data": {
      "text/plain": [
       "contact               246163\n",
       "info                   71934\n",
       "accueil                24960\n",
       "mairie                  9717\n",
       "dpo                     9421\n",
       "                       ...  \n",
       "yves                      44\n",
       "lerelais                  44\n",
       "regie                     44\n",
       "albertville               44\n",
       "joachim.wendenburg        44\n",
       "Name: user, Length: 1200, dtype: int64"
      ]
     },
     "execution_count": 44,
     "metadata": {},
     "output_type": "execute_result"
    }
   ],
   "source": [
    "df0['user'].value_counts().head(1200)"
   ]
  },
  {
   "cell_type": "code",
   "execution_count": 45,
   "metadata": {},
   "outputs": [],
   "source": [
    "df=df0[['email', 'siret']]"
   ]
  },
  {
   "cell_type": "code",
   "execution_count": 46,
   "metadata": {},
   "outputs": [],
   "source": [
    "df = df.rename({'email': 'mail'}, axis=1)"
   ]
  },
  {
   "cell_type": "code",
   "execution_count": 47,
   "metadata": {},
   "outputs": [
    {
     "name": "stdout",
     "output_type": "stream",
     "text": [
      "CPU times: user 2.33 s, sys: 266 ms, total: 2.59 s\n",
      "Wall time: 2.73 s\n"
     ]
    }
   ],
   "source": [
    "%%time\n",
    "df['user']= df['mail'].apply(lambda x: x.split('@')[0] if x and len(x.split())>0 else None)"
   ]
  },
  {
   "cell_type": "code",
   "execution_count": 48,
   "metadata": {},
   "outputs": [],
   "source": [
    "df=df[['mail', 'user']]"
   ]
  },
  {
   "cell_type": "code",
   "execution_count": 49,
   "metadata": {},
   "outputs": [
    {
     "data": {
      "text/plain": [
       "1113924"
      ]
     },
     "execution_count": 49,
     "metadata": {},
     "output_type": "execute_result"
    }
   ],
   "source": [
    "len(df['user'])"
   ]
  },
  {
   "cell_type": "code",
   "execution_count": 50,
   "metadata": {},
   "outputs": [
    {
     "data": {
      "text/plain": [
       "305932"
      ]
     },
     "execution_count": 50,
     "metadata": {},
     "output_type": "execute_result"
    }
   ],
   "source": [
    "len(df['user'].unique())"
   ]
  },
  {
   "cell_type": "code",
   "execution_count": 51,
   "metadata": {},
   "outputs": [],
   "source": [
    "df['user05']= df['user'].apply(lambda x: re.sub(r'[0-9]','', x) if x else None)"
   ]
  },
  {
   "cell_type": "code",
   "execution_count": 52,
   "metadata": {},
   "outputs": [],
   "source": [
    "df['user']=df['user05'].apply(lambda x: x.replace('..', '').replace('..', ''))\n"
   ]
  },
  {
   "cell_type": "code",
   "execution_count": 53,
   "metadata": {},
   "outputs": [],
   "source": [
    "\n",
    "df['user']=df['user'].apply(lambda x: x.replace('-', '.'))\n",
    "\n",
    "df['user']=df['user'].apply(lambda x: x.replace('_', '.'))\n",
    "df['user_part1']=df['user'].apply(lambda x: x.split('.')[0])\n",
    "df=df.explode(column='user_part1')\n",
    "#df['user_part']=df['user_part'].apply(lambda x: x if len(x)>=3 else None)"
   ]
  },
  {
   "cell_type": "code",
   "execution_count": 54,
   "metadata": {},
   "outputs": [],
   "source": [
    "df['user_part2']=df['user'].apply(lambda x: x.split('.')[1] if len(x.split('.'))>1 else None)\n",
    "df['user_part3']=df['user'].apply(lambda x: x.split('.')[2] if len(x.split('.'))>2 else None)\n"
   ]
  },
  {
   "cell_type": "code",
   "execution_count": 55,
   "metadata": {},
   "outputs": [
    {
     "data": {
      "text/plain": [
       "1113924"
      ]
     },
     "execution_count": 55,
     "metadata": {},
     "output_type": "execute_result"
    }
   ],
   "source": [
    "len(df)"
   ]
  },
  {
   "cell_type": "code",
   "execution_count": 56,
   "metadata": {},
   "outputs": [],
   "source": [
    "n=200"
   ]
  },
  {
   "cell_type": "code",
   "execution_count": 57,
   "metadata": {},
   "outputs": [],
   "source": [
    "df=df.explode(column='user_part2')"
   ]
  },
  {
   "cell_type": "code",
   "execution_count": 58,
   "metadata": {},
   "outputs": [],
   "source": [
    "exapp1=df['user_part1'].value_counts().head(n)\n",
    "\n",
    "exapp1=exapp1.dropna()\n",
    "\n",
    "exapp1 = exapp1.reset_index()\n",
    "\n",
    "exapp1\n",
    "\n",
    "exapp1 = exapp1.query('index.notna()')\n",
    "\n",
    "exapp1['ln']=exapp1['index'].apply(lambda x: len(x))\n",
    "\n",
    "exapp1\n",
    "\n",
    "exapp11 = exapp1.query('ln>2')\n",
    "\n",
    "e1=set(exapp11['index'])"
   ]
  },
  {
   "cell_type": "code",
   "execution_count": 59,
   "metadata": {},
   "outputs": [],
   "source": [
    "exapp2=df['user_part2'].value_counts().head(n)\n",
    "\n",
    "exapp2=exapp2.dropna()\n",
    "\n",
    "exapp2 = exapp2.reset_index()\n",
    "\n",
    "exapp2 = exapp2.query('index.notna()')\n",
    "\n",
    "exapp2['ln']=exapp2['index'].apply(lambda x: len(x))\n",
    "\n",
    "exapp21 = exapp2.query('ln>2')\n",
    "\n",
    "e2=set(exapp21['index'])"
   ]
  },
  {
   "cell_type": "code",
   "execution_count": 60,
   "metadata": {},
   "outputs": [],
   "source": [
    "exapp3=df['user_part3'].value_counts().head(n)\n",
    "\n",
    "exapp3=exapp3.dropna()\n",
    "\n",
    "exapp3 = exapp3.reset_index()\n",
    "\n",
    "exapp3 = exapp3.query('index.notna()')\n",
    "\n",
    "exapp3['ln']=exapp3['index'].apply(lambda x: len(x))\n",
    "\n",
    "exapp32 = exapp3.query('ln>2')\n",
    "\n",
    "e3=set(exapp32['index'])"
   ]
  },
  {
   "cell_type": "code",
   "execution_count": 61,
   "metadata": {},
   "outputs": [
    {
     "data": {
      "text/plain": [
       "(172, 160, 169)"
      ]
     },
     "execution_count": 61,
     "metadata": {},
     "output_type": "execute_result"
    }
   ],
   "source": [
    "len(e1), len(e2), len(e3)"
   ]
  },
  {
   "cell_type": "code",
   "execution_count": 62,
   "metadata": {},
   "outputs": [
    {
     "data": {
      "text/plain": [
       "{'acamaieu',\n",
       " 'acceuil',\n",
       " 'accueil',\n",
       " 'actionnaires',\n",
       " 'admin',\n",
       " 'administratif',\n",
       " 'administration',\n",
       " 'adresse',\n",
       " 'adressemail',\n",
       " 'agence',\n",
       " 'alain',\n",
       " 'alphega',\n",
       " 'anne',\n",
       " 'association',\n",
       " 'atelier',\n",
       " 'banette',\n",
       " 'bienvenue',\n",
       " 'bonjour',\n",
       " 'bordeaux',\n",
       " 'boutique',\n",
       " 'bruno',\n",
       " 'bureau',\n",
       " 'cabinet',\n",
       " 'cabinetdumaire',\n",
       " 'camping',\n",
       " 'ccas',\n",
       " 'celine',\n",
       " 'christophe',\n",
       " 'cil',\n",
       " 'client',\n",
       " 'clients',\n",
       " 'cnil',\n",
       " 'com',\n",
       " 'commande',\n",
       " 'commerce',\n",
       " 'commercial',\n",
       " 'communication',\n",
       " 'compta',\n",
       " 'comptabilite',\n",
       " 'concours',\n",
       " 'consultation',\n",
       " 'contact',\n",
       " 'contactpub',\n",
       " 'contacts',\n",
       " 'contactweb',\n",
       " 'courrier',\n",
       " 'data',\n",
       " 'dave',\n",
       " 'david',\n",
       " 'developpement',\n",
       " 'devis',\n",
       " 'didier',\n",
       " 'dircom',\n",
       " 'direction',\n",
       " 'directiondelacommunication',\n",
       " 'donneespersonnelles',\n",
       " 'dpo',\n",
       " 'dre',\n",
       " 'drh',\n",
       " 'ecole',\n",
       " 'ecommerce',\n",
       " 'email',\n",
       " 'entreprise',\n",
       " 'eram',\n",
       " 'eric',\n",
       " 'etude',\n",
       " 'exemple',\n",
       " 'export',\n",
       " 'facteur',\n",
       " 'formation',\n",
       " 'france',\n",
       " 'franchise',\n",
       " 'franck',\n",
       " 'francois',\n",
       " 'frederic',\n",
       " 'garage',\n",
       " 'gestion',\n",
       " 'groupe',\n",
       " 'hello',\n",
       " 'hotel',\n",
       " 'ikoula',\n",
       " 'immobilier',\n",
       " 'info',\n",
       " 'infofr',\n",
       " 'information',\n",
       " 'informatique',\n",
       " 'informatiqueetliberte',\n",
       " 'infos',\n",
       " 'isabelle',\n",
       " 'jean',\n",
       " 'jerome',\n",
       " 'job',\n",
       " 'jobs',\n",
       " 'julien',\n",
       " 'laurent',\n",
       " 'license',\n",
       " 'lille',\n",
       " 'lyon',\n",
       " 'magasin',\n",
       " 'mail',\n",
       " 'maire',\n",
       " 'mairie',\n",
       " 'marc',\n",
       " 'marie',\n",
       " 'marketing',\n",
       " 'marseille',\n",
       " 'masteredfcom',\n",
       " 'matmut',\n",
       " 'mautomobiles',\n",
       " 'michel',\n",
       " 'miracle',\n",
       " 'nantes',\n",
       " 'nathalie',\n",
       " 'nicolas',\n",
       " 'nom',\n",
       " 'office',\n",
       " 'olivier',\n",
       " 'paris',\n",
       " 'pascal',\n",
       " 'patrick',\n",
       " 'pdv',\n",
       " 'pharmacie',\n",
       " 'philippe',\n",
       " 'pierre',\n",
       " 'pierremaistre',\n",
       " 'prenom',\n",
       " 'press',\n",
       " 'presse',\n",
       " 'pressoffice',\n",
       " 'privacy',\n",
       " 'reception',\n",
       " 'recrutement',\n",
       " 'redaction',\n",
       " 'relationclient',\n",
       " 'rennes',\n",
       " 'resa',\n",
       " 'reservation',\n",
       " 'reservations',\n",
       " 'restaurant',\n",
       " 'rgpd',\n",
       " 'robert',\n",
       " 'sales',\n",
       " 'sarl',\n",
       " 'sas',\n",
       " 'satisfactionclient',\n",
       " 'sav',\n",
       " 'scp',\n",
       " 'sebastien',\n",
       " 'secretariat',\n",
       " 'service',\n",
       " 'serviceclient',\n",
       " 'serviceclients',\n",
       " 'services',\n",
       " 'sholby',\n",
       " 'siege',\n",
       " 'sophie',\n",
       " 'standard',\n",
       " 'stephane',\n",
       " 'support',\n",
       " 'sylvie',\n",
       " 'technique',\n",
       " 'thierry',\n",
       " 'toulouse',\n",
       " 'transports',\n",
       " 'valerie',\n",
       " 'vincent',\n",
       " 'votre',\n",
       " 'web',\n",
       " 'webmaster',\n",
       " 'webmestre',\n",
       " 'websitebuilder',\n",
       " 'www'}"
      ]
     },
     "execution_count": 62,
     "metadata": {},
     "output_type": "execute_result"
    }
   ],
   "source": [
    "e1"
   ]
  },
  {
   "cell_type": "code",
   "execution_count": 63,
   "metadata": {},
   "outputs": [
    {
     "data": {
      "text/plain": [
       "{'accueil',\n",
       " 'aeras',\n",
       " 'afnic',\n",
       " 'aix',\n",
       " 'angers',\n",
       " 'annecy',\n",
       " 'antibes',\n",
       " 'arenas',\n",
       " 'auto',\n",
       " 'automotive',\n",
       " 'avocat',\n",
       " 'bernard',\n",
       " 'beziers',\n",
       " 'bordeaux',\n",
       " 'brest',\n",
       " 'bridges',\n",
       " 'cabinet',\n",
       " 'caisse',\n",
       " 'calhl',\n",
       " 'cedeo',\n",
       " 'centrale',\n",
       " 'centre',\n",
       " 'chomage',\n",
       " 'claude',\n",
       " 'clichy',\n",
       " 'client',\n",
       " 'clientele',\n",
       " 'clients',\n",
       " 'cmcas',\n",
       " 'cnil',\n",
       " 'com',\n",
       " 'commerce',\n",
       " 'commercial',\n",
       " 'communication',\n",
       " 'compiegne',\n",
       " 'consommateur',\n",
       " 'consommateurs',\n",
       " 'contact',\n",
       " 'courriel',\n",
       " 'dam',\n",
       " 'dan',\n",
       " 'david',\n",
       " 'dec',\n",
       " 'des',\n",
       " 'dgs',\n",
       " 'digitale',\n",
       " 'direction',\n",
       " 'discriminations',\n",
       " 'donnees',\n",
       " 'donneespersonnelles',\n",
       " 'dpo',\n",
       " 'dupont',\n",
       " 'durand',\n",
       " 'elec',\n",
       " 'enligne',\n",
       " 'entreprises',\n",
       " 'est',\n",
       " 'europe',\n",
       " 'expertise',\n",
       " 'express',\n",
       " 'formation',\n",
       " 'france',\n",
       " 'francois',\n",
       " 'general',\n",
       " 'generale',\n",
       " 'gougeon',\n",
       " 'grandlyon',\n",
       " 'grenoble',\n",
       " 'groupe',\n",
       " 'honorat',\n",
       " 'hotel',\n",
       " 'idf',\n",
       " 'iio',\n",
       " 'immo',\n",
       " 'immobilier',\n",
       " 'industrie',\n",
       " 'info',\n",
       " 'information',\n",
       " 'informatique',\n",
       " 'interim',\n",
       " 'internet',\n",
       " 'issy',\n",
       " 'jean',\n",
       " 'julie',\n",
       " 'juridique',\n",
       " 'koszczanski',\n",
       " 'laumain',\n",
       " 'laurent',\n",
       " 'lefoulon',\n",
       " 'lille',\n",
       " 'logement',\n",
       " 'longoni',\n",
       " 'lpl',\n",
       " 'lsf',\n",
       " 'luc',\n",
       " 'lyon',\n",
       " 'maaf',\n",
       " 'mail',\n",
       " 'mails',\n",
       " 'maire',\n",
       " 'mairie',\n",
       " 'manvussat',\n",
       " 'marc',\n",
       " 'marie',\n",
       " 'marketing',\n",
       " 'marseille',\n",
       " 'martin',\n",
       " 'menut',\n",
       " 'michel',\n",
       " 'montpellier',\n",
       " 'montrouge',\n",
       " 'name',\n",
       " 'nantes',\n",
       " 'nice',\n",
       " 'nom',\n",
       " 'nord',\n",
       " 'notaires',\n",
       " 'orleans',\n",
       " 'osteo',\n",
       " 'ouest',\n",
       " 'paris',\n",
       " 'peinture',\n",
       " 'personnelles',\n",
       " 'pessac',\n",
       " 'petit',\n",
       " 'philippe',\n",
       " 'pierre',\n",
       " 'pointp',\n",
       " 'prenom',\n",
       " 'presse',\n",
       " 'privacy',\n",
       " 'pro',\n",
       " 'psef',\n",
       " 'qualite',\n",
       " 'raimbault',\n",
       " 'reception',\n",
       " 'recrutement',\n",
       " 'relations',\n",
       " 'rennes',\n",
       " 'rgpd',\n",
       " 'rozes',\n",
       " 'saint',\n",
       " 'saio',\n",
       " 'sarl',\n",
       " 'sas',\n",
       " 'secretariat',\n",
       " 'service',\n",
       " 'services',\n",
       " 'siege',\n",
       " 'site',\n",
       " 'social',\n",
       " 'standard',\n",
       " 'strasbourg',\n",
       " 'sud',\n",
       " 'technique',\n",
       " 'thi',\n",
       " 'tollens',\n",
       " 'toulouse',\n",
       " 'tourisme',\n",
       " 'web'}"
      ]
     },
     "execution_count": 63,
     "metadata": {},
     "output_type": "execute_result"
    }
   ],
   "source": [
    "e2"
   ]
  },
  {
   "cell_type": "code",
   "execution_count": 64,
   "metadata": {},
   "outputs": [
    {
     "data": {
      "text/plain": [
       "{'accueil',\n",
       " 'aix',\n",
       " 'alpes',\n",
       " 'archi',\n",
       " 'architecte',\n",
       " 'ardennes',\n",
       " 'associes',\n",
       " 'auto',\n",
       " 'automobiles',\n",
       " 'avocat',\n",
       " 'avocats',\n",
       " 'basque',\n",
       " 'beaute',\n",
       " 'beauvais',\n",
       " 'bois',\n",
       " 'bopublic',\n",
       " 'bordeaux',\n",
       " 'bossert',\n",
       " 'brancion',\n",
       " 'carrefour',\n",
       " 'ccas',\n",
       " 'center',\n",
       " 'centre',\n",
       " 'cergy',\n",
       " 'cged',\n",
       " 'chs',\n",
       " 'client',\n",
       " 'club',\n",
       " 'com',\n",
       " 'comcontact',\n",
       " 'communication',\n",
       " 'compta',\n",
       " 'comptable',\n",
       " 'concept',\n",
       " 'conseil',\n",
       " 'conso',\n",
       " 'construction',\n",
       " 'contact',\n",
       " 'csf',\n",
       " 'cuvelier',\n",
       " 'des',\n",
       " 'digne',\n",
       " 'dijon',\n",
       " 'dir',\n",
       " 'direction',\n",
       " 'donnees',\n",
       " 'dpo',\n",
       " 'ecole',\n",
       " 'eiffage',\n",
       " 'elec',\n",
       " 'energie',\n",
       " 'enseignement',\n",
       " 'epargne',\n",
       " 'est',\n",
       " 'etienne',\n",
       " 'ext',\n",
       " 'fede',\n",
       " 'ficher',\n",
       " 'fils',\n",
       " 'formation',\n",
       " 'france',\n",
       " 'freres',\n",
       " 'gare',\n",
       " 'garonne',\n",
       " 'generale',\n",
       " 'generales',\n",
       " 'geneve',\n",
       " 'gers',\n",
       " 'habitat',\n",
       " 'hbfr',\n",
       " 'homeservices',\n",
       " 'hygiene',\n",
       " 'immo',\n",
       " 'immobilier',\n",
       " 'independants',\n",
       " 'info',\n",
       " 'infos',\n",
       " 'internet',\n",
       " 'ivry',\n",
       " 'jacques',\n",
       " 'jean',\n",
       " 'jeunes',\n",
       " 'joseph',\n",
       " 'jpo',\n",
       " 'lac',\n",
       " 'les',\n",
       " 'leurent',\n",
       " 'libertes',\n",
       " 'ligne',\n",
       " 'lille',\n",
       " 'location',\n",
       " 'lor',\n",
       " 'lorraine',\n",
       " 'loucatel',\n",
       " 'louis',\n",
       " 'lyon',\n",
       " 'mail',\n",
       " 'maire',\n",
       " 'mairie',\n",
       " 'marcadier',\n",
       " 'marie',\n",
       " 'martin',\n",
       " 'mdb',\n",
       " 'michel',\n",
       " 'midi',\n",
       " 'miere',\n",
       " 'montpellier',\n",
       " 'mve',\n",
       " 'nantes',\n",
       " 'neuf',\n",
       " 'nice',\n",
       " 'nord',\n",
       " 'nordest',\n",
       " 'nous',\n",
       " 'novillars',\n",
       " 'osteo',\n",
       " 'osteopathe',\n",
       " 'ouest',\n",
       " 'oyonnax',\n",
       " 'paillot',\n",
       " 'paris',\n",
       " 'paul',\n",
       " 'paysage',\n",
       " 'peinture',\n",
       " 'personnelles',\n",
       " 'pierre',\n",
       " 'pilotage',\n",
       " 'plessis',\n",
       " 'presse',\n",
       " 'pro',\n",
       " 'provence',\n",
       " 'psy',\n",
       " 'psychologue',\n",
       " 'publics',\n",
       " 'pyrenees',\n",
       " 'quartiers',\n",
       " 'recrutement',\n",
       " 'rennes',\n",
       " 'riviere',\n",
       " 'roanne',\n",
       " 'robert',\n",
       " 'rochelle',\n",
       " 'saint',\n",
       " 'sarl',\n",
       " 'sauveterre',\n",
       " 'sec',\n",
       " 'secretariat',\n",
       " 'sens',\n",
       " 'service',\n",
       " 'services',\n",
       " 'shop',\n",
       " 'siege',\n",
       " 'src',\n",
       " 'stephanois',\n",
       " 'sud',\n",
       " 'support',\n",
       " 'sur',\n",
       " 'taxi',\n",
       " 'team',\n",
       " 'topaz',\n",
       " 'tortorici',\n",
       " 'toulouse',\n",
       " 'transfert',\n",
       " 'vente',\n",
       " 'vie',\n",
       " 'vienne',\n",
       " 'ville',\n",
       " 'vws',\n",
       " 'web'}"
      ]
     },
     "execution_count": 64,
     "metadata": {},
     "output_type": "execute_result"
    }
   ],
   "source": [
    "e3"
   ]
  },
  {
   "cell_type": "markdown",
   "metadata": {},
   "source": [
    "#  список стоп слов на основе частей юзеров"
   ]
  },
  {
   "cell_type": "code",
   "execution_count": 65,
   "metadata": {},
   "outputs": [],
   "source": [
    "all =e1.union(e2).union(e3)"
   ]
  },
  {
   "cell_type": "code",
   "execution_count": 66,
   "metadata": {},
   "outputs": [
    {
     "data": {
      "text/plain": [
       "382"
      ]
     },
     "execution_count": 66,
     "metadata": {},
     "output_type": "execute_result"
    }
   ],
   "source": [
    "len(all)"
   ]
  },
  {
   "cell_type": "code",
   "execution_count": 67,
   "metadata": {},
   "outputs": [
    {
     "data": {
      "text/plain": [
       "True"
      ]
     },
     "execution_count": 67,
     "metadata": {},
     "output_type": "execute_result"
    }
   ],
   "source": [
    "'sales' in all"
   ]
  },
  {
   "cell_type": "code",
   "execution_count": 68,
   "metadata": {},
   "outputs": [
    {
     "data": {
      "text/plain": [
       "True"
      ]
     },
     "execution_count": 68,
     "metadata": {},
     "output_type": "execute_result"
    }
   ],
   "source": [
    "'sales' in fr_noms"
   ]
  },
  {
   "cell_type": "code",
   "execution_count": 69,
   "metadata": {},
   "outputs": [],
   "source": [
    "t1=set(all)  - set(uk_prenoms)-set(us_prenoms) - set(fr_pronoms) #-set(fr_noms) # - set(us_noms) за искл. самих имен и фамилией"
   ]
  },
  {
   "cell_type": "code",
   "execution_count": 70,
   "metadata": {},
   "outputs": [
    {
     "data": {
      "text/plain": [
       "True"
      ]
     },
     "execution_count": 70,
     "metadata": {},
     "output_type": "execute_result"
    }
   ],
   "source": [
    "'sales' in t1"
   ]
  },
  {
   "cell_type": "code",
   "execution_count": 71,
   "metadata": {},
   "outputs": [],
   "source": [
    "t4=[] # короткие стоп слова не нужны\n",
    "for i in t1:\n",
    "    if len(i)>2:\n",
    "        t4.append(i)"
   ]
  },
  {
   "cell_type": "code",
   "execution_count": 72,
   "metadata": {},
   "outputs": [],
   "source": [
    "t4=sorted((t4))"
   ]
  },
  {
   "cell_type": "code",
   "execution_count": 73,
   "metadata": {},
   "outputs": [
    {
     "data": {
      "text/plain": [
       "324"
      ]
     },
     "execution_count": 73,
     "metadata": {},
     "output_type": "execute_result"
    }
   ],
   "source": [
    "len(t4)"
   ]
  },
  {
   "cell_type": "code",
   "execution_count": 74,
   "metadata": {},
   "outputs": [
    {
     "data": {
      "text/plain": [
       "contact                       263126\n",
       "info                           77703\n",
       "accueil                        36823\n",
       "mairie                         12845\n",
       "service                        12770\n",
       "dpo                            10904\n",
       "direction                       9791\n",
       "communication                   9687\n",
       "secretariat                     9349\n",
       "recrutement                     9108\n",
       "infos                           7801\n",
       "commercial                      6860\n",
       "support                         5447\n",
       "ce                              4808\n",
       "webmaster                       4651\n",
       "robert                          4542\n",
       "prenom                          3841\n",
       "privacy                         3830\n",
       "siege                           3405\n",
       "exemple                         3179\n",
       "license                         3059\n",
       "standard                        3056\n",
       "agence                          2876\n",
       "jean                            2748\n",
       "paris                           2562\n",
       "sales                           2433\n",
       "                                2352\n",
       "serviceclient                   2240\n",
       "c                               2226\n",
       "sholby                          2210\n",
       "marketing                       2134\n",
       "courrier                        2120\n",
       "reservation                     2117\n",
       "a                               2063\n",
       "mail                            2011\n",
       "rh                              1982\n",
       "s                               1976\n",
       "pierremaistre                   1953\n",
       "banette                         1928\n",
       "cabinet                         1924\n",
       "sav                             1844\n",
       "hello                           1842\n",
       "adresse                         1804\n",
       "directiondelacommunication      1803\n",
       "rgpd                            1785\n",
       "dre                             1785\n",
       "serviceclients                  1754\n",
       "contacts                        1668\n",
       "compta                          1660\n",
       "m                               1642\n",
       "ad                              1591\n",
       "sylvie                          1570\n",
       "admin                           1553\n",
       "presse                          1553\n",
       "masteredfcom                    1508\n",
       "e                               1491\n",
       "nom                             1490\n",
       "stephane                        1476\n",
       "sarl                            1470\n",
       "h                               1433\n",
       "philippe                        1364\n",
       "france                          1329\n",
       "services                        1324\n",
       "administration                  1300\n",
       "f                               1278\n",
       "p                               1276\n",
       "formation                       1230\n",
       "j                               1216\n",
       "satisfactionclient              1214\n",
       "d                               1198\n",
       "office                          1198\n",
       "web                             1184\n",
       "v                               1171\n",
       "reception                       1149\n",
       "ikoula                          1144\n",
       "laurent                         1084\n",
       "informatiqueetliberte           1078\n",
       "boutique                        1063\n",
       "drh                             1022\n",
       "informatique                    1014\n",
       "l                               1006\n",
       "my                               984\n",
       "bonjour                          977\n",
       "lyon                             974\n",
       "immobilier                       959\n",
       "pdv                              956\n",
       "information                      952\n",
       "infofr                           951\n",
       "ecole                            949\n",
       "cil                              924\n",
       "contactweb                       919\n",
       "comptabilite                     912\n",
       "n                                895\n",
       "atelier                          889\n",
       "eric                             888\n",
       "olivier                          866\n",
       "b                                865\n",
       "cnil                             849\n",
       "miracle                          835\n",
       "g                                831\n",
       "Name: user_part1, dtype: int64"
      ]
     },
     "execution_count": 74,
     "metadata": {},
     "output_type": "execute_result"
    }
   ],
   "source": [
    "df['user_part1'].value_counts().head(100)"
   ]
  },
  {
   "cell_type": "code",
   "execution_count": 75,
   "metadata": {},
   "outputs": [
    {
     "data": {
      "text/plain": [
       "1113924"
      ]
     },
     "execution_count": 75,
     "metadata": {},
     "output_type": "execute_result"
    }
   ],
   "source": [
    "len(df)"
   ]
  },
  {
   "cell_type": "code",
   "execution_count": 76,
   "metadata": {},
   "outputs": [],
   "source": [
    "df=df.explode(column='user_part3')"
   ]
  },
  {
   "cell_type": "code",
   "execution_count": 77,
   "metadata": {},
   "outputs": [
    {
     "data": {
      "text/plain": [
       "client             4422\n",
       "nom                4041\n",
       "accueil            3061\n",
       "france             3008\n",
       "fr                 2796\n",
       "                   2690\n",
       "paris              2242\n",
       "clients            1953\n",
       "discriminations    1793\n",
       "grandlyon          1788\n",
       "rgpd               1690\n",
       "dupont             1410\n",
       "siege              1397\n",
       "communication      1388\n",
       "groupe             1316\n",
       "contact            1288\n",
       "issy               1155\n",
       "info               1094\n",
       "honorat            1055\n",
       "psef               1044\n",
       "de                 1009\n",
       "name                968\n",
       "commercial          914\n",
       "centrale            908\n",
       "generale            900\n",
       "mairie              893\n",
       "notaires            880\n",
       "automotive          838\n",
       "direction           802\n",
       "mp                  776\n",
       "lyon                768\n",
       "donnees             740\n",
       "privacy             709\n",
       "general             703\n",
       "maaf                651\n",
       "afnic               637\n",
       "raimbault           631\n",
       "service             626\n",
       "b                   621\n",
       "sarl                612\n",
       "et                  604\n",
       "internet            587\n",
       "dg                  578\n",
       "courriel            563\n",
       "expertise           551\n",
       "immobilier          544\n",
       "d                   530\n",
       "cedeo               510\n",
       "secretariat         510\n",
       "thi                 501\n",
       "Name: user_part2, dtype: int64"
      ]
     },
     "execution_count": 77,
     "metadata": {},
     "output_type": "execute_result"
    }
   ],
   "source": [
    "df['user_part2'].value_counts().head(50)"
   ]
  },
  {
   "cell_type": "code",
   "execution_count": 78,
   "metadata": {},
   "outputs": [
    {
     "data": {
      "text/plain": [
       "False"
      ]
     },
     "execution_count": 78,
     "metadata": {},
     "output_type": "execute_result"
    }
   ],
   "source": [
    "'den' in us_prenoms"
   ]
  },
  {
   "cell_type": "code",
   "execution_count": 79,
   "metadata": {},
   "outputs": [
    {
     "data": {
      "text/plain": [
       "True"
      ]
     },
     "execution_count": 79,
     "metadata": {},
     "output_type": "execute_result"
    }
   ],
   "source": [
    "'dan' in uk_prenoms"
   ]
  },
  {
   "cell_type": "code",
   "execution_count": 80,
   "metadata": {},
   "outputs": [],
   "source": [
    "excludes=gvalc['s']"
   ]
  },
  {
   "cell_type": "code",
   "execution_count": 81,
   "metadata": {},
   "outputs": [
    {
     "data": {
      "text/html": [
       "<div>\n",
       "<style scoped>\n",
       "    .dataframe tbody tr th:only-of-type {\n",
       "        vertical-align: middle;\n",
       "    }\n",
       "\n",
       "    .dataframe tbody tr th {\n",
       "        vertical-align: top;\n",
       "    }\n",
       "\n",
       "    .dataframe thead th {\n",
       "        text-align: right;\n",
       "    }\n",
       "</style>\n",
       "<table border=\"1\" class=\"dataframe\">\n",
       "  <thead>\n",
       "    <tr style=\"text-align: right;\">\n",
       "      <th></th>\n",
       "      <th>s</th>\n",
       "      <th>user</th>\n",
       "    </tr>\n",
       "  </thead>\n",
       "  <tbody>\n",
       "    <tr>\n",
       "      <th>0</th>\n",
       "      <td>idfn</td>\n",
       "      <td>44</td>\n",
       "    </tr>\n",
       "    <tr>\n",
       "      <th>1</th>\n",
       "      <td>lerelais</td>\n",
       "      <td>44</td>\n",
       "    </tr>\n",
       "    <tr>\n",
       "      <th>2</th>\n",
       "      <td>joachim</td>\n",
       "      <td>44</td>\n",
       "    </tr>\n",
       "    <tr>\n",
       "      <th>3</th>\n",
       "      <td>wendenburg</td>\n",
       "      <td>44</td>\n",
       "    </tr>\n",
       "    <tr>\n",
       "      <th>4</th>\n",
       "      <td>osteo-open</td>\n",
       "      <td>44</td>\n",
       "    </tr>\n",
       "    <tr>\n",
       "      <th>...</th>\n",
       "      <td>...</td>\n",
       "      <td>...</td>\n",
       "    </tr>\n",
       "    <tr>\n",
       "      <th>1171</th>\n",
       "      <td>mairie</td>\n",
       "      <td>10214</td>\n",
       "    </tr>\n",
       "    <tr>\n",
       "      <th>1172</th>\n",
       "      <td>dpo</td>\n",
       "      <td>10426</td>\n",
       "    </tr>\n",
       "    <tr>\n",
       "      <th>1173</th>\n",
       "      <td>accueil</td>\n",
       "      <td>30457</td>\n",
       "    </tr>\n",
       "    <tr>\n",
       "      <th>1174</th>\n",
       "      <td>info</td>\n",
       "      <td>72952</td>\n",
       "    </tr>\n",
       "    <tr>\n",
       "      <th>1175</th>\n",
       "      <td>contact</td>\n",
       "      <td>250528</td>\n",
       "    </tr>\n",
       "  </tbody>\n",
       "</table>\n",
       "<p>1176 rows × 2 columns</p>\n",
       "</div>"
      ],
      "text/plain": [
       "               s    user\n",
       "0           idfn      44\n",
       "1       lerelais      44\n",
       "2        joachim      44\n",
       "3     wendenburg      44\n",
       "4     osteo-open      44\n",
       "...          ...     ...\n",
       "1171      mairie   10214\n",
       "1172         dpo   10426\n",
       "1173     accueil   30457\n",
       "1174        info   72952\n",
       "1175     contact  250528\n",
       "\n",
       "[1176 rows x 2 columns]"
      ]
     },
     "execution_count": 81,
     "metadata": {},
     "output_type": "execute_result"
    }
   ],
   "source": [
    "gvalc"
   ]
  },
  {
   "cell_type": "code",
   "execution_count": 82,
   "metadata": {},
   "outputs": [
    {
     "data": {
      "text/plain": [
       "False"
      ]
     },
     "execution_count": 82,
     "metadata": {},
     "output_type": "execute_result"
    }
   ],
   "source": [
    "'sales' in excludes"
   ]
  },
  {
   "cell_type": "code",
   "execution_count": 83,
   "metadata": {},
   "outputs": [
    {
     "data": {
      "text/html": [
       "<div>\n",
       "<style scoped>\n",
       "    .dataframe tbody tr th:only-of-type {\n",
       "        vertical-align: middle;\n",
       "    }\n",
       "\n",
       "    .dataframe tbody tr th {\n",
       "        vertical-align: top;\n",
       "    }\n",
       "\n",
       "    .dataframe thead th {\n",
       "        text-align: right;\n",
       "    }\n",
       "</style>\n",
       "<table border=\"1\" class=\"dataframe\">\n",
       "  <thead>\n",
       "    <tr style=\"text-align: right;\">\n",
       "      <th></th>\n",
       "      <th>s</th>\n",
       "      <th>user</th>\n",
       "    </tr>\n",
       "  </thead>\n",
       "  <tbody>\n",
       "    <tr>\n",
       "      <th>0</th>\n",
       "      <td>idfn</td>\n",
       "      <td>44</td>\n",
       "    </tr>\n",
       "    <tr>\n",
       "      <th>1</th>\n",
       "      <td>lerelais</td>\n",
       "      <td>44</td>\n",
       "    </tr>\n",
       "    <tr>\n",
       "      <th>2</th>\n",
       "      <td>joachim</td>\n",
       "      <td>44</td>\n",
       "    </tr>\n",
       "    <tr>\n",
       "      <th>3</th>\n",
       "      <td>wendenburg</td>\n",
       "      <td>44</td>\n",
       "    </tr>\n",
       "    <tr>\n",
       "      <th>4</th>\n",
       "      <td>osteo-open</td>\n",
       "      <td>44</td>\n",
       "    </tr>\n",
       "    <tr>\n",
       "      <th>...</th>\n",
       "      <td>...</td>\n",
       "      <td>...</td>\n",
       "    </tr>\n",
       "    <tr>\n",
       "      <th>1171</th>\n",
       "      <td>mairie</td>\n",
       "      <td>10214</td>\n",
       "    </tr>\n",
       "    <tr>\n",
       "      <th>1172</th>\n",
       "      <td>dpo</td>\n",
       "      <td>10426</td>\n",
       "    </tr>\n",
       "    <tr>\n",
       "      <th>1173</th>\n",
       "      <td>accueil</td>\n",
       "      <td>30457</td>\n",
       "    </tr>\n",
       "    <tr>\n",
       "      <th>1174</th>\n",
       "      <td>info</td>\n",
       "      <td>72952</td>\n",
       "    </tr>\n",
       "    <tr>\n",
       "      <th>1175</th>\n",
       "      <td>contact</td>\n",
       "      <td>250528</td>\n",
       "    </tr>\n",
       "  </tbody>\n",
       "</table>\n",
       "<p>1176 rows × 2 columns</p>\n",
       "</div>"
      ],
      "text/plain": [
       "               s    user\n",
       "0           idfn      44\n",
       "1       lerelais      44\n",
       "2        joachim      44\n",
       "3     wendenburg      44\n",
       "4     osteo-open      44\n",
       "...          ...     ...\n",
       "1171      mairie   10214\n",
       "1172         dpo   10426\n",
       "1173     accueil   30457\n",
       "1174        info   72952\n",
       "1175     contact  250528\n",
       "\n",
       "[1176 rows x 2 columns]"
      ]
     },
     "execution_count": 83,
     "metadata": {},
     "output_type": "execute_result"
    }
   ],
   "source": [
    "gvalc"
   ]
  },
  {
   "cell_type": "code",
   "execution_count": 84,
   "metadata": {},
   "outputs": [],
   "source": [
    "def f_ex():\n",
    "    excludes=list(gvalc['s'])\n",
    "\n",
    "    \n",
    "    excludes4=[]\n",
    "    for i in excludes:\n",
    "        for j in i.split('.'):\n",
    "            excludes4.append(j)\n",
    "\n",
    "    excludes5=[]\n",
    "    for i in excludes4:\n",
    "        for j in i.split('-'):\n",
    "            excludes5.append(j)\n",
    "\n",
    "\n",
    "    excludes6=[]\n",
    "    for i in excludes5:\n",
    "        for j in i.split('_'):\n",
    "            excludes6.append(j)\n",
    "\n",
    "    excludes7=set(excludes6)  - set(uk_prenoms) -set(fr_pronoms) -set(us_prenoms)\\\n",
    "    .union(set(stopWords)).union(set(stopWords1))\n",
    "    \n",
    "    excludes8=[]\n",
    "    for i in excludes7:\n",
    "        if len(i)> 2:\n",
    "            excludes8.append(i)\n",
    "\n",
    "    ex3 = set(list(df['user_part2'].value_counts().head(50).index))\\\n",
    "    .union(set(excludes8))\\\n",
    "    .union(set(list(df['user_part1'].value_counts().head(50).index)))\n",
    "\n",
    "    return ex3 #ex1"
   ]
  },
  {
   "cell_type": "code",
   "execution_count": null,
   "metadata": {},
   "outputs": [],
   "source": []
  },
  {
   "cell_type": "code",
   "execution_count": 85,
   "metadata": {},
   "outputs": [],
   "source": [
    "ex_final = f_ex() # исключения"
   ]
  },
  {
   "cell_type": "code",
   "execution_count": null,
   "metadata": {},
   "outputs": [],
   "source": [
    "sorted(ex_final).to_csv('stop_list.csv')"
   ]
  },
  {
   "cell_type": "code",
   "execution_count": 86,
   "metadata": {},
   "outputs": [
    {
     "data": {
      "text/plain": [
       "986"
      ]
     },
     "execution_count": 86,
     "metadata": {},
     "output_type": "execute_result"
    }
   ],
   "source": [
    "len(ex_final)"
   ]
  },
  {
   "cell_type": "code",
   "execution_count": 87,
   "metadata": {},
   "outputs": [],
   "source": [
    "# объединение подходов"
   ]
  },
  {
   "cell_type": "code",
   "execution_count": 88,
   "metadata": {},
   "outputs": [
    {
     "data": {
      "text/plain": [
       "True"
      ]
     },
     "execution_count": 88,
     "metadata": {},
     "output_type": "execute_result"
    }
   ],
   "source": [
    "'sales' in ex_final"
   ]
  },
  {
   "cell_type": "code",
   "execution_count": 89,
   "metadata": {},
   "outputs": [],
   "source": [
    "ex_final=ex_final.union(t4)"
   ]
  },
  {
   "cell_type": "code",
   "execution_count": 90,
   "metadata": {},
   "outputs": [
    {
     "data": {
      "text/plain": [
       "1070"
      ]
     },
     "execution_count": 90,
     "metadata": {},
     "output_type": "execute_result"
    }
   ],
   "source": [
    "len(ex_final) # список стоп слов"
   ]
  },
  {
   "cell_type": "code",
   "execution_count": 91,
   "metadata": {},
   "outputs": [
    {
     "data": {
      "text/plain": [
       "False"
      ]
     },
     "execution_count": 91,
     "metadata": {},
     "output_type": "execute_result"
    }
   ],
   "source": [
    "'dave' in ex_final"
   ]
  },
  {
   "cell_type": "markdown",
   "metadata": {},
   "source": [
    "# очистка сета от записей содержащих стоп слова"
   ]
  },
  {
   "cell_type": "code",
   "execution_count": 92,
   "metadata": {},
   "outputs": [
    {
     "data": {
      "text/plain": [
       "1113924"
      ]
     },
     "execution_count": 92,
     "metadata": {},
     "output_type": "execute_result"
    }
   ],
   "source": [
    "len(df)"
   ]
  },
  {
   "cell_type": "code",
   "execution_count": 93,
   "metadata": {},
   "outputs": [],
   "source": [
    "df=df.reset_index()"
   ]
  },
  {
   "cell_type": "code",
   "execution_count": 94,
   "metadata": {},
   "outputs": [
    {
     "name": "stdout",
     "output_type": "stream",
     "text": [
      "CPU times: user 0 ns, sys: 0 ns, total: 0 ns\n",
      "Wall time: 28.8 µs\n"
     ]
    }
   ],
   "source": [
    "%%time\n",
    "#df['user0']=df['user_part'].apply(lambda x: x if x not in ex_final1 else None)\n",
    "def notex(row):\n",
    "    user_part1 = row['user_part1']\n",
    "    user_part2 = row['user_part2']\n",
    "    user_part3 = row['user_part3']\n",
    "    user = row['user']\n",
    "    if (user_part1 not in ex_final) and (user_part2 not in ex_final) \\\n",
    "    and (user_part3 not in ex_final):\n",
    "        return user\n",
    "    else:\n",
    "        None"
   ]
  },
  {
   "cell_type": "code",
   "execution_count": 95,
   "metadata": {},
   "outputs": [
    {
     "name": "stdout",
     "output_type": "stream",
     "text": [
      "CPU times: user 1min 26s, sys: 750 ms, total: 1min 26s\n",
      "Wall time: 1min 31s\n"
     ]
    }
   ],
   "source": [
    "%%time\n",
    "df['user_res0']=df.apply(notex, axis=1)"
   ]
  },
  {
   "cell_type": "code",
   "execution_count": 96,
   "metadata": {},
   "outputs": [],
   "source": [
    "df['user_res1'] = df['user_res0'].apply(lambda x: x if x and len(x)>2 else None)"
   ]
  },
  {
   "cell_type": "code",
   "execution_count": 97,
   "metadata": {},
   "outputs": [],
   "source": [
    "def f(x):\n",
    "    if x and '.' in x and len(x)==4:\n",
    "        return  re.sub(r\"[a-z]{2}\\.[a-z]\", '', x)\n",
    "    else:\n",
    "        return x"
   ]
  },
  {
   "cell_type": "code",
   "execution_count": 98,
   "metadata": {},
   "outputs": [],
   "source": [
    "df['user_res2']=df['user_res1'].apply(lambda x: f(x) )"
   ]
  },
  {
   "cell_type": "code",
   "execution_count": 99,
   "metadata": {},
   "outputs": [],
   "source": [
    "df['user_res3'] = df['user_res2'].apply(lambda x: x if x and len(x)>2 else None)"
   ]
  },
  {
   "cell_type": "code",
   "execution_count": 100,
   "metadata": {},
   "outputs": [],
   "source": [
    "# распределение"
   ]
  },
  {
   "cell_type": "code",
   "execution_count": 101,
   "metadata": {},
   "outputs": [
    {
     "data": {
      "text/plain": [
       "dave                483\n",
       "maire               406\n",
       "jules               364\n",
       "assu                324\n",
       "contactbanque       281\n",
       "caroll              231\n",
       "vous                227\n",
       "alix                212\n",
       "ddfip               207\n",
       "john.bridges        202\n",
       "philippe            199\n",
       "david               194\n",
       "olivier             191\n",
       "laurent             187\n",
       "nicolas             185\n",
       "julie               185\n",
       "cmo                 177\n",
       "jack                163\n",
       "marie               160\n",
       "charlotte           158\n",
       "stephane            149\n",
       "julien              146\n",
       "christophe          144\n",
       "eric                142\n",
       "john                140\n",
       "sophie              134\n",
       "nathalie            133\n",
       "sebastien           126\n",
       "pierre              121\n",
       "caroline            116\n",
       "procaromat          116\n",
       "kimberly.stewart    115\n",
       "thierry             111\n",
       "pascal              109\n",
       "jerome              108\n",
       "arnaud              106\n",
       "adhapb              105\n",
       "harry               104\n",
       "patrick             103\n",
       "vincent             103\n",
       "guillaume           102\n",
       "frederic            101\n",
       "thomas              100\n",
       "valerie              99\n",
       "isabelle             95\n",
       "michel               95\n",
       "marc                 95\n",
       "bruno                93\n",
       "dep                  92\n",
       "franck               92\n",
       "catherine            91\n",
       "celine               88\n",
       "degres               87\n",
       "lespep               87\n",
       "alain                87\n",
       "fred                 84\n",
       "cedric               84\n",
       "nancy                84\n",
       "sandrine             82\n",
       "infrep               82\n",
       "le.maire             81\n",
       "alexandra            81\n",
       "laurence             79\n",
       "antoine              78\n",
       "stephanie            77\n",
       "xavier               76\n",
       "didier               76\n",
       "romain               76\n",
       "mutualite            75\n",
       "menuiseries          75\n",
       "anne                 74\n",
       "elodie               74\n",
       "virginie             74\n",
       "claire               73\n",
       "francois             72\n",
       "sylvie               70\n",
       "sylvain              69\n",
       "mathieu              67\n",
       "addonsprestashop     67\n",
       "stephane.beal        66\n",
       "janis                65\n",
       "alexandre            65\n",
       "denis                64\n",
       "par                  63\n",
       "aurelie              63\n",
       "montelimar           62\n",
       "claude               62\n",
       "dominique            61\n",
       "fabrice              61\n",
       "damien               60\n",
       "delphine             60\n",
       "emilie               57\n",
       "alex                 57\n",
       "lechesnay            57\n",
       "fabien               57\n",
       "karine               57\n",
       "gilles               56\n",
       "christian            56\n",
       "paul                 56\n",
       "fol                  55\n",
       "Name: user_res3, dtype: int64"
      ]
     },
     "execution_count": 101,
     "metadata": {},
     "output_type": "execute_result"
    }
   ],
   "source": [
    "df.query('index.notna()')['user_res3'].value_counts().head(100)"
   ]
  },
  {
   "cell_type": "code",
   "execution_count": 102,
   "metadata": {},
   "outputs": [],
   "source": [
    "df.query('index.notna()')['user_res3'].value_counts().to_csv('result_distribution.csv')"
   ]
  },
  {
   "cell_type": "code",
   "execution_count": null,
   "metadata": {},
   "outputs": [],
   "source": []
  },
  {
   "cell_type": "code",
   "execution_count": null,
   "metadata": {},
   "outputs": [],
   "source": []
  }
 ],
 "metadata": {
  "kernelspec": {
   "display_name": "Python 3",
   "language": "python",
   "name": "python3"
  },
  "language_info": {
   "codemirror_mode": {
    "name": "ipython",
    "version": 3
   },
   "file_extension": ".py",
   "mimetype": "text/x-python",
   "name": "python",
   "nbconvert_exporter": "python",
   "pygments_lexer": "ipython3",
   "version": "3.8.5"
  }
 },
 "nbformat": 4,
 "nbformat_minor": 5
}
