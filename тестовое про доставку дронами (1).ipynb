{
 "cells": [
  {
   "cell_type": "markdown",
   "metadata": {},
   "source": [
    "# задача про дрон"
   ]
  },
  {
   "cell_type": "raw",
   "metadata": {},
   "source": [
    "Как связано количество посылок, которое успеет доставить робот за день и\n",
    "предельная дальность доставки R?\n",
    "\n",
    "Сделайте оценку среднего количества доставок за день с указанием всех значимых констант. Приложите не только ответ, но и ход решения."
   ]
  },
  {
   "cell_type": "markdown",
   "metadata": {},
   "source": [
    "# решение"
   ]
  },
  {
   "cell_type": "raw",
   "metadata": {},
   "source": [
    "Обозначим расстояние до адреса доставки s. Тогда время доставки одной посылки (формула из физики)  s/v.\n",
    "Тогда количество посылок за 24 часа составит 24 / ( s / v)  == 24 * v / s. \n",
    "Количество посылок  - случайная величина, распределенная по нормальному закону (это видно по гистограмме, которую я построила в python). Это значит, что ответ будет в виде оценки в виде среднее и доверительный интервал с уровнем значимости.\n",
    "Рассмотрим частный случай. Для радиуса 100 км и скорости 100 км/ч оценка будет такой: от 19 до 30 посылок, в среднем 24 посылки.\n"
   ]
  },
  {
   "cell_type": "code",
   "execution_count": 1,
   "metadata": {},
   "outputs": [],
   "source": [
    "import math\n",
    "import random\n",
    "import pandas as pd\n",
    "import numpy as np\n",
    "from scipy.stats import uniform\n",
    "import scipy.stats as stats"
   ]
  },
  {
   "cell_type": "code",
   "execution_count": 2,
   "metadata": {},
   "outputs": [],
   "source": [
    "rmax= 100 # дальность дрона\n",
    "v=100 # скорость\n",
    "n = 100 # количество испытаний\n",
    "res=[]\n",
    "for j in range(n):\n",
    "    t=[]\n",
    "    sm =0 # суммарное время\n",
    "    i = 0 # счетчик посылок\n",
    "    while sm <= 24.00: # здесь мы суммируем (моделируем интергрирование)\n",
    "        m = np.random.uniform(0,rmax, n*20) # у расстояния равномерное распределение\n",
    "        t.append(m[i]*2/v)\n",
    "        sm = sm + t[i]\n",
    "        i =i + 1\n",
    "    res.append(i)"
   ]
  },
  {
   "cell_type": "code",
   "execution_count": 3,
   "metadata": {},
   "outputs": [
    {
     "data": {
      "text/html": [
       "<div>\n",
       "<style scoped>\n",
       "    .dataframe tbody tr th:only-of-type {\n",
       "        vertical-align: middle;\n",
       "    }\n",
       "\n",
       "    .dataframe tbody tr th {\n",
       "        vertical-align: top;\n",
       "    }\n",
       "\n",
       "    .dataframe thead th {\n",
       "        text-align: right;\n",
       "    }\n",
       "</style>\n",
       "<table border=\"1\" class=\"dataframe\">\n",
       "  <thead>\n",
       "    <tr style=\"text-align: right;\">\n",
       "      <th></th>\n",
       "      <th>0</th>\n",
       "    </tr>\n",
       "  </thead>\n",
       "  <tbody>\n",
       "    <tr>\n",
       "      <th>count</th>\n",
       "      <td>100.000000</td>\n",
       "    </tr>\n",
       "    <tr>\n",
       "      <th>mean</th>\n",
       "      <td>24.840000</td>\n",
       "    </tr>\n",
       "    <tr>\n",
       "      <th>std</th>\n",
       "      <td>2.929198</td>\n",
       "    </tr>\n",
       "    <tr>\n",
       "      <th>min</th>\n",
       "      <td>20.000000</td>\n",
       "    </tr>\n",
       "    <tr>\n",
       "      <th>25%</th>\n",
       "      <td>23.000000</td>\n",
       "    </tr>\n",
       "    <tr>\n",
       "      <th>50%</th>\n",
       "      <td>24.000000</td>\n",
       "    </tr>\n",
       "    <tr>\n",
       "      <th>75%</th>\n",
       "      <td>26.000000</td>\n",
       "    </tr>\n",
       "    <tr>\n",
       "      <th>max</th>\n",
       "      <td>35.000000</td>\n",
       "    </tr>\n",
       "  </tbody>\n",
       "</table>\n",
       "</div>"
      ],
      "text/plain": [
       "                0\n",
       "count  100.000000\n",
       "mean    24.840000\n",
       "std      2.929198\n",
       "min     20.000000\n",
       "25%     23.000000\n",
       "50%     24.000000\n",
       "75%     26.000000\n",
       "max     35.000000"
      ]
     },
     "execution_count": 3,
     "metadata": {},
     "output_type": "execute_result"
    },
    {
     "data": {
      "image/png": "[encoded data removed]",
      "text/plain": [
       "<Figure size 432x288 with 1 Axes>"
      ]
     },
     "metadata": {
      "needs_background": "light"
     },
     "output_type": "display_data"
    }
   ],
   "source": [
    "res = pd.DataFrame(res)\n",
    "res.plot(kind='hist', bins=10)\n",
    "res.describe()"
   ]
  },
  {
   "cell_type": "code",
   "execution_count": 4,
   "metadata": {},
   "outputs": [
    {
     "data": {
      "text/plain": [
       "24.84"
      ]
     },
     "execution_count": 4,
     "metadata": {},
     "output_type": "execute_result"
    }
   ],
   "source": [
    "res.mean()[0]"
   ]
  },
  {
   "cell_type": "markdown",
   "metadata": {},
   "source": [
    "# доверительный интервал"
   ]
  },
  {
   "cell_type": "code",
   "execution_count": 5,
   "metadata": {},
   "outputs": [],
   "source": [
    "confidential_interval  = stats.norm.interval(0.95, loc=res.mean(), scale=res.std())"
   ]
  },
  {
   "cell_type": "code",
   "execution_count": 6,
   "metadata": {},
   "outputs": [
    {
     "data": {
      "text/plain": [
       "(19, 30)"
      ]
     },
     "execution_count": 6,
     "metadata": {},
     "output_type": "execute_result"
    }
   ],
   "source": [
    "int(confidential_interval[0][0]), int(confidential_interval[1][0])"
   ]
  },
  {
   "cell_type": "code",
   "execution_count": 7,
   "metadata": {},
   "outputs": [
    {
     "name": "stdout",
     "output_type": "stream",
     "text": [
      "Для примера возьмём 100 км/ч и 100 км радиус. Тогда количество посылок равно в среднем 24.84.      \n",
      "Доверительный интервал с уровнем 95% равен 19 - 30 посылок в день.\n"
     ]
    }
   ],
   "source": [
    "print(f'Для примера возьмём 100 км/ч и 100 км радиус. Тогда количество посылок равно в среднем {res.mean()[0]}.\\\n",
    "      \\nДоверительный интервал с уровнем 95% равен {int(confidential_interval[0][0])} - {int(confidential_interval[1][0])} посылок в день.')"
   ]
  },
  {
   "cell_type": "code",
   "execution_count": null,
   "metadata": {},
   "outputs": [],
   "source": []
  }
 ],
 "metadata": {
  "kernelspec": {
   "display_name": "Python 3",
   "language": "python",
   "name": "python3"
  },
  "language_info": {
   "codemirror_mode": {
    "name": "ipython",
    "version": 3
   },
   "file_extension": ".py",
   "mimetype": "text/x-python",
   "name": "python",
   "nbconvert_exporter": "python",
   "pygments_lexer": "ipython3",
   "version": "3.8.5"
  }
 },
 "nbformat": 4,
 "nbformat_minor": 4
}
